{
 "cells": [
  {
   "cell_type": "markdown",
   "metadata": {},
   "source": [
    "*** We use open () function in Python to open a file in read or write mode. As explained above, open ( ) will return a file object. To return a file object we use open() function along with two arguments, that accepts file name and the mode, whether to read or write. So, the syntax being: open(filename, mode). There are three kinds of mode, that Python provides and how files can be opened:\n",
    "“ r “, for reading.\n",
    "“ w “, for writing.\n",
    "“ a “, for appending.\n",
    "“ r+ “, for both reading and writing\n",
    "One must keep in mind that the mode argument is not mandatory. \n",
    "If not passed, then Python will assume it to be “ r ” by default. \n",
    "Let’s look at this program and try to analyze how the read mode works:***\n"
   ]
  },
  {
   "cell_type": "code",
   "execution_count": 1,
   "metadata": {},
   "outputs": [],
   "source": [
    "# Python code to create a file \n",
    "file = open('file.txt','w') \n",
    "file.write(\"This is the write command\") \n",
    "file.write(\"It allows us to write in a particular file\") \n",
    "file.close() \n"
   ]
  },
  {
   "cell_type": "code",
   "execution_count": 5,
   "metadata": {},
   "outputs": [],
   "source": [
    "# Python code to illustrate append() mode \n",
    "file = open('file.txt','a') \n",
    "file.write(\"This will add this line in append mode\") \n",
    "file.close() \n"
   ]
  },
  {
   "cell_type": "code",
   "execution_count": 6,
   "metadata": {},
   "outputs": [
    {
     "name": "stdout",
     "output_type": "stream",
     "text": [
      "This is the write commandIt allows us to write in a particular fileThis will add this lineThis will add this line in append mode\n"
     ]
    }
   ],
   "source": [
    "# a file named \"geek\", will be opened with the reading mode. \n",
    "file = open('file.txt', 'r') \n",
    "# This will print every line one by one in the file \n",
    "for each in file: \n",
    "\tprint (each) \n"
   ]
  },
  {
   "cell_type": "code",
   "execution_count": 8,
   "metadata": {},
   "outputs": [
    {
     "name": "stdout",
     "output_type": "stream",
     "text": [
      "This is the write commandIt allows us to write in a particular fileThis will add this lineThis will add this line in append mode\n"
     ]
    }
   ],
   "source": [
    "# Python code to illustrate with() \n",
    "with open(\"file.txt\") as file: \n",
    "\tdata = file.read() \n",
    "# do something with data \n",
    "print(data)"
   ]
  },
  {
   "cell_type": "code",
   "execution_count": null,
   "metadata": {},
   "outputs": [],
   "source": [
    "# Python code to illustrate with() alongwith write() \n",
    "with open(\"file1.txt\", \"w\") as f: \n",
    "\tf.write(\"Hello World!!!\") \n",
    "    f.write(\"Hello World!!!\")\n"
   ]
  },
  {
   "cell_type": "markdown",
   "metadata": {},
   "source": [
    "### **Writing JSON to a File**\n",
    "The easiest way to write your data in the JSON format to a file using Python is to use store your data in a dict object, which can contain other nested dicts, arrays, booleans, or other primitive types like integers and strings. You can find a more detailed list of data types supported here.\n",
    "\n",
    "The built-in json package has the magic code that transforms your Python dict object in to the serialized JSON string."
   ]
  },
  {
   "cell_type": "code",
   "execution_count": 9,
   "metadata": {},
   "outputs": [],
   "source": [
    "import json\n",
    "\n",
    "data = {}\n",
    "data['people'] = []\n",
    "data['people'].append({\n",
    "    'name': 'Scott',\n",
    "    'website': 'stackabuse.com',\n",
    "    'from': 'Nebraska'\n",
    "})\n",
    "data['people'].append({\n",
    "    'name': 'Larry',\n",
    "    'website': 'google.com',\n",
    "    'from': 'Michigan'\n",
    "})\n",
    "data['people'].append({\n",
    "    'name': 'Tim',\n",
    "    'website': 'apple.com',\n",
    "    'from': 'Alabama'\n",
    "})\n",
    "\n",
    "with open('jsondata.txt', 'w') as outfile:\n",
    "    json.dump(data, outfile)"
   ]
  },
  {
   "cell_type": "markdown",
   "metadata": {},
   "source": [
    "A slight variation on the json.dump method that's worth mentioning is **json.dumps**, which returns the actual JSON string instead of sending it directly to a writable object. This can give you some more control if you need to make some changes to the JSON string (like encrypting it, for example)."
   ]
  },
  {
   "cell_type": "markdown",
   "metadata": {},
   "source": [
    "### **Reading JSON from a File**\n",
    "On the other end, reading JSON data from a file is just as easy as writing it to a file. Using the same json package again, we can extract and parse the JSON string directly from a file object. In the following example, we do just that and then print out the data we got:"
   ]
  },
  {
   "cell_type": "code",
   "execution_count": 11,
   "metadata": {},
   "outputs": [
    {
     "name": "stdout",
     "output_type": "stream",
     "text": [
      "Name: Scott\n",
      "Website: stackabuse.com\n",
      "From: Nebraska\n",
      "\n",
      "Name: Larry\n",
      "Website: google.com\n",
      "From: Michigan\n",
      "\n",
      "Name: Tim\n",
      "Website: apple.com\n",
      "From: Alabama\n",
      "\n"
     ]
    }
   ],
   "source": [
    "import json\n",
    "\n",
    "with open('jsondata.txt') as json_file:\n",
    "    data = json.load(json_file)\n",
    "    for p in data['people']:\n",
    "        print('Name: ' + p['name'])\n",
    "        print('Website: ' + p['website'])\n",
    "        print('From: ' + p['from'])\n",
    "        print('')"
   ]
  },
  {
   "cell_type": "markdown",
   "metadata": {},
   "source": [
    "**json.load** is the important method to note here. It reads the string from the file, parses the JSON data, populates a Python dict with the data and returns it back to you.\n",
    "\n",
    "Just like json.dump, json.load has an alternative method that lets you deal with strings directly since many times you probably won't have a file-like object that contains your JSON.**json.loads**. Consider the case where you're calling a REST GET endpoint that returns JSON. This data comes to you as a string, which you can then pass to json.loads directly instead."
   ]
  },
  {
   "cell_type": "markdown",
   "metadata": {},
   "source": [
    "## **Options**\n",
    "When serializing your data to JSON with Python, the result will be in the standard format and not very readable since whitespace is eliminated. While this is the ideal behavior for most cases, sometimes you may need to make small changes, like adding whitespace to make it human readable. Both json.dump and json.load provide quite a few options for more flexibility, a few of which will be described here.\n",
    "\n",
    "### **Pretty-Printing**\n",
    "Making JSON human readable (aka \"pretty printing\") is as easy as passing an integer value for the indent parameter:"
   ]
  },
  {
   "cell_type": "code",
   "execution_count": 13,
   "metadata": {},
   "outputs": [
    {
     "data": {
      "text/plain": [
       "'{\\n    \"people\": [\\n        {\\n            \"name\": \"Scott\",\\n            \"website\": \"stackabuse.com\",\\n            \"from\": \"Nebraska\"\\n        }\\n    ]\\n}'"
      ]
     },
     "execution_count": 13,
     "metadata": {},
     "output_type": "execute_result"
    }
   ],
   "source": [
    "import json\n",
    "data = {'people':[{'name': 'Scott', 'website': 'stackabuse.com', 'from': 'Nebraska'}]}\n",
    "json.dumps(data, indent=4)\n",
    "# {\n",
    "#     \"people\": [\n",
    "#         {\n",
    "#             \"website\": \"stackabuse.com\", \n",
    "#             \"from\": \"Nebraska\", \n",
    "#             \"name\": \"Scott\"\n",
    "#         }\n",
    "#     ]\n",
    "# }"
   ]
  },
  {
   "cell_type": "markdown",
   "metadata": {},
   "source": [
    "### **Sorting**\n",
    "In JSON, an object is defined as:\n",
    "\n",
    "An object is an unordered set of name/value pairs.\n",
    "\n",
    "So the standard is saying that key order isn't guaranteed, but it's possible that you may need it for your own purposes internally. To achieve ordering, you can pass True to the sort_keys option when using json.dump or json.dumps."
   ]
  },
  {
   "cell_type": "code",
   "execution_count": 14,
   "metadata": {},
   "outputs": [
    {
     "data": {
      "text/plain": [
       "'{\\n    \"people\": [\\n        {\\n            \"from\": \"Nebraska\",\\n            \"name\": \"Scott\",\\n            \"website\": \"stackabuse.com\"\\n        }\\n    ]\\n}'"
      ]
     },
     "execution_count": 14,
     "metadata": {},
     "output_type": "execute_result"
    }
   ],
   "source": [
    "import json\n",
    "data = {'people':[{'name': 'Scott', 'website': 'stackabuse.com', 'from': 'Nebraska'}]}\n",
    "json.dumps(data, sort_keys=True, indent=4)"
   ]
  },
  {
   "cell_type": "markdown",
   "metadata": {},
   "source": [
    "### **ASCII Text**\n",
    "By default, json.dump will ensure that all of your text in the given Python dictionary are ASCII-encoded. If non-ASCII characters are present, then they're automatically escaped, as shown in the following example:"
   ]
  },
  {
   "cell_type": "code",
   "execution_count": 15,
   "metadata": {},
   "outputs": [
    {
     "name": "stdout",
     "output_type": "stream",
     "text": [
      "{\n",
      "    \"item\": \"Beer\",\n",
      "    \"cost\": \"\\u00a34.00\"\n",
      "}\n"
     ]
    }
   ],
   "source": [
    "import json\n",
    "data = {'item': 'Beer', 'cost':'£4.00'}\n",
    "jstr = json.dumps(data, indent=4)\n",
    "print(jstr)"
   ]
  },
  {
   "cell_type": "markdown",
   "metadata": {},
   "source": [
    "This isn't always acceptable, and in many cases you may want to keep your Unicode characters un-touched. To do this, set the ensure_ascii option to False."
   ]
  },
  {
   "cell_type": "code",
   "execution_count": 16,
   "metadata": {},
   "outputs": [
    {
     "name": "stdout",
     "output_type": "stream",
     "text": [
      "{\n",
      "    \"item\": \"Beer\",\n",
      "    \"cost\": \"£4.00\"\n",
      "}\n"
     ]
    }
   ],
   "source": [
    "jstr = json.dumps(data, ensure_ascii=False, indent=4)\n",
    "print(jstr)"
   ]
  },
  {
   "cell_type": "code",
   "execution_count": null,
   "metadata": {},
   "outputs": [],
   "source": []
  }
 ],
 "metadata": {
  "kernelspec": {
   "display_name": "Python 3",
   "language": "python",
   "name": "python3"
  },
  "language_info": {
   "codemirror_mode": {
    "name": "ipython",
    "version": 3
   },
   "file_extension": ".py",
   "mimetype": "text/x-python",
   "name": "python",
   "nbconvert_exporter": "python",
   "pygments_lexer": "ipython3",
   "version": "3.7.4"
  }
 },
 "nbformat": 4,
 "nbformat_minor": 2
}
