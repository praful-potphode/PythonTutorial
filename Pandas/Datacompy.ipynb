{
 "cells": [
  {
   "cell_type": "code",
   "execution_count": 10,
   "metadata": {},
   "outputs": [
    {
     "name": "stdout",
     "output_type": "stream",
     "text": [
      "   employee_id             name  age\n",
      "0            1    rajiv kapoor    20\n",
      "1            2   rahul agarwal    23\n",
      "2            3   alice johnson    26\n",
      "3            4           Praful   31\n",
      "   employee_id              name\n",
      "0            1     rajiv khanna \n",
      "1            2   rahul aggarwal \n",
      "2            3      alice tyson \n",
      "3            4            Praful\n",
      "DataComPy Comparison\n",
      "--------------------\n",
      "\n",
      "DataFrame Summary\n",
      "-----------------\n",
      "\n",
      "  DataFrame  Columns  Rows\n",
      "0  Original        3     4\n",
      "1       New        2     4\n",
      "\n",
      "Column Summary\n",
      "--------------\n",
      "\n",
      "Number of columns in common: 2\n",
      "Number of columns in Original but not in New: 1\n",
      "Number of columns in New but not in Original: 0\n",
      "\n",
      "Row Summary\n",
      "-----------\n",
      "\n",
      "Matched on: employee_id, name\n",
      "Any duplicates on match values: No\n",
      "Absolute Tolerance: 0\n",
      "Relative Tolerance: 0\n",
      "Number of rows in common: 1\n",
      "Number of rows in Original but not in New: 3\n",
      "Number of rows in New but not in Original: 3\n",
      "\n",
      "Number of rows with some compared columns unequal: 0\n",
      "Number of rows with all compared columns equal: 1\n",
      "\n",
      "Column Comparison\n",
      "-----------------\n",
      "\n",
      "Number of columns compared with some values unequal: 0\n",
      "Number of columns compared with all values equal: 2\n",
      "Total number of values which compare unequal: 0\n",
      "\n",
      "Sample Rows Only in Original (First 10 Columns)\n",
      "-----------------------------------------------\n",
      "\n",
      "   employee_id             name   age\n",
      "2            3   alice johnson   26.0\n",
      "0            1    rajiv kapoor   20.0\n",
      "1            2   rahul agarwal   23.0\n",
      "\n",
      "Sample Rows Only in New (First 10 Columns)\n",
      "------------------------------------------\n",
      "\n",
      "   employee_id              name\n",
      "5            2   rahul aggarwal \n",
      "4            1     rajiv khanna \n",
      "6            3      alice tyson \n",
      "\n",
      "\n",
      "   employee_id             name   age\n",
      "0            1    rajiv kapoor   20.0\n",
      "1            2   rahul agarwal   23.0\n",
      "2            3   alice johnson   26.0\n"
     ]
    }
   ],
   "source": [
    "from io import StringIO \n",
    "import pandas as pd \n",
    "import datacompy \n",
    "\n",
    "\t\n",
    "data1 = \"\"\"employee_id,name,age\n",
    "1, rajiv kapoor ,20\n",
    "2, rahul agarwal ,23\n",
    "3, alice johnson ,26\n",
    "4,Praful,31\n",
    "\"\"\"\n",
    "\n",
    "data2 = \"\"\"employee_id,name\n",
    "1, rajiv khanna \n",
    "2, rahul aggarwal \n",
    "3, alice tyson \n",
    "4,Praful\n",
    "\"\"\"\n",
    "# conn=cx_oracle.connect(hostname,username,password,port)\n",
    "# pd.read_sql(\"selct * from employee\",conn)\n",
    "df1 = pd.read_csv(StringIO(data1)) \n",
    "df2 = pd.read_csv(StringIO(data2)) \n",
    "print(df1.head())\n",
    "print(df2.head())\n",
    "compare = datacompy.Compare( \n",
    "\tdf1, \n",
    "\tdf2, \n",
    "\t\n",
    "\t# You can also specify a list \n",
    "\t# of columns \n",
    "\tjoin_columns = ['employee_id','name'], \n",
    "\t\n",
    "\t# Optional, defaults to 0 \n",
    "\tabs_tol = 0, \n",
    "\t\n",
    "\t# Optional, defaults to 0 \n",
    "\trel_tol = 0, \n",
    "\t\n",
    "\t# Optional, defaults to 'df1' \n",
    "\tdf1_name = 'Original', \n",
    "\t\n",
    "\t# Optional, defaults to 'df2' \n",
    "\tdf2_name = 'New'\n",
    "\t) \n",
    "\n",
    "# if ignore_exra_columns=True, \n",
    "# the function won't return False \n",
    "# in case of non-overlapping \n",
    "# column names \n",
    "compare.matches(ignore_extra_columns = True) \n",
    "\n",
    "# This method prints out a human-readable \n",
    "# report summarizing and sampling \n",
    "# differences \n",
    "print(compare.report()) \n"
   ]
  },
  {
   "cell_type": "code",
   "execution_count": 13,
   "metadata": {},
   "outputs": [
    {
     "name": "stdout",
     "output_type": "stream",
     "text": [
      "None\n"
     ]
    }
   ],
   "source": [
    "print(compare.df1_unq_rows)\n",
    "compare.df1_unq_rows.to_csv('df1.csv')"
   ]
  },
  {
   "cell_type": "code",
   "execution_count": 12,
   "metadata": {},
   "outputs": [
    {
     "name": "stdout",
     "output_type": "stream",
     "text": [
      "   employee_id              name\n",
      "4            1     rajiv khanna \n",
      "5            2   rahul aggarwal \n",
      "6            3      alice tyson \n"
     ]
    }
   ],
   "source": [
    "print(compare.df2_unq_rows)"
   ]
  }
 ],
 "metadata": {
  "kernelspec": {
   "display_name": "Python 3",
   "language": "python",
   "name": "python3"
  },
  "language_info": {
   "codemirror_mode": {
    "name": "ipython",
    "version": 3
   },
   "file_extension": ".py",
   "mimetype": "text/x-python",
   "name": "python",
   "nbconvert_exporter": "python",
   "pygments_lexer": "ipython3",
   "version": "3.8.5"
  }
 },
 "nbformat": 4,
 "nbformat_minor": 4
}
