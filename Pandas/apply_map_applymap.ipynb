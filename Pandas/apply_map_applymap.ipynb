{
 "cells": [
  {
   "cell_type": "markdown",
   "metadata": {},
   "source": [
    "In Data Processing, it is often necessary to perform operations (such as statistical calculations, splitting, or substituting value) on a certain row or column to obtain new data. Writing a for-loop to iterate through Pandas DataFrame and Series will do the job, but that doesn’t seem like a good idea. The for-loop tends to have more lines of code, less code readability, and slower performance.\n",
    "Fortunately, there are already great methods that are built into Pandas to help you accomplish the goals! In this article, we will see how to perform operations using apply() and applymap(), and how to substitute value using map().\n",
    "First of all, you should be aware that DataFrame and Series will have some or all of these three methods, as follows:"
   ]
  },
  {
   "cell_type": "markdown",
   "metadata": {},
   "source": [
    "![title](map.png)"
   ]
  },
  {
   "cell_type": "markdown",
   "metadata": {},
   "source": [
    "### apply() is used to apply a function along an axis of the DataFrame or on values of Series.\n",
    "### applymap() is used to apply a function to a DataFrame elementwise.\n",
    "### map() is used to substitute each value in a Series with another value."
   ]
  },
  {
   "cell_type": "code",
   "execution_count": 1,
   "metadata": {},
   "outputs": [
    {
     "data": {
      "text/html": [
       "<div>\n",
       "<style scoped>\n",
       "    .dataframe tbody tr th:only-of-type {\n",
       "        vertical-align: middle;\n",
       "    }\n",
       "\n",
       "    .dataframe tbody tr th {\n",
       "        vertical-align: top;\n",
       "    }\n",
       "\n",
       "    .dataframe thead th {\n",
       "        text-align: right;\n",
       "    }\n",
       "</style>\n",
       "<table border=\"1\" class=\"dataframe\">\n",
       "  <thead>\n",
       "    <tr style=\"text-align: right;\">\n",
       "      <th></th>\n",
       "      <th>A</th>\n",
       "      <th>B</th>\n",
       "      <th>C</th>\n",
       "    </tr>\n",
       "  </thead>\n",
       "  <tbody>\n",
       "    <tr>\n",
       "      <th>Row 1</th>\n",
       "      <td>1</td>\n",
       "      <td>10</td>\n",
       "      <td>20</td>\n",
       "    </tr>\n",
       "    <tr>\n",
       "      <th>Row 2</th>\n",
       "      <td>2</td>\n",
       "      <td>20</td>\n",
       "      <td>40</td>\n",
       "    </tr>\n",
       "    <tr>\n",
       "      <th>Row 3</th>\n",
       "      <td>3</td>\n",
       "      <td>30</td>\n",
       "      <td>60</td>\n",
       "    </tr>\n",
       "    <tr>\n",
       "      <th>Row 4</th>\n",
       "      <td>4</td>\n",
       "      <td>40</td>\n",
       "      <td>80</td>\n",
       "    </tr>\n",
       "  </tbody>\n",
       "</table>\n",
       "</div>"
      ],
      "text/plain": [
       "       A   B   C\n",
       "Row 1  1  10  20\n",
       "Row 2  2  20  40\n",
       "Row 3  3  30  60\n",
       "Row 4  4  40  80"
      ]
     },
     "execution_count": 1,
     "metadata": {},
     "output_type": "execute_result"
    }
   ],
   "source": [
    "import pandas as pd\n",
    "df = pd.DataFrame({ 'A': [1,2,3,4], \n",
    "                   'B': [10,20,30,40],\n",
    "                   'C': [20,40,60,80]\n",
    "                  }, \n",
    "                  index=['Row 1', 'Row 2', 'Row 3', 'Row 4'])\n",
    "df"
   ]
  },
  {
   "cell_type": "code",
   "execution_count": 4,
   "metadata": {},
   "outputs": [
    {
     "data": {
      "text/html": [
       "<div>\n",
       "<style scoped>\n",
       "    .dataframe tbody tr th:only-of-type {\n",
       "        vertical-align: middle;\n",
       "    }\n",
       "\n",
       "    .dataframe tbody tr th {\n",
       "        vertical-align: top;\n",
       "    }\n",
       "\n",
       "    .dataframe thead th {\n",
       "        text-align: right;\n",
       "    }\n",
       "</style>\n",
       "<table border=\"1\" class=\"dataframe\">\n",
       "  <thead>\n",
       "    <tr style=\"text-align: right;\">\n",
       "      <th></th>\n",
       "      <th>A</th>\n",
       "      <th>B</th>\n",
       "      <th>C</th>\n",
       "      <th>D</th>\n",
       "    </tr>\n",
       "  </thead>\n",
       "  <tbody>\n",
       "    <tr>\n",
       "      <th>Row 1</th>\n",
       "      <td>1</td>\n",
       "      <td>10</td>\n",
       "      <td>20</td>\n",
       "      <td>62</td>\n",
       "    </tr>\n",
       "    <tr>\n",
       "      <th>Row 2</th>\n",
       "      <td>2</td>\n",
       "      <td>20</td>\n",
       "      <td>40</td>\n",
       "      <td>124</td>\n",
       "    </tr>\n",
       "    <tr>\n",
       "      <th>Row 3</th>\n",
       "      <td>3</td>\n",
       "      <td>30</td>\n",
       "      <td>60</td>\n",
       "      <td>186</td>\n",
       "    </tr>\n",
       "    <tr>\n",
       "      <th>Row 4</th>\n",
       "      <td>4</td>\n",
       "      <td>40</td>\n",
       "      <td>80</td>\n",
       "      <td>248</td>\n",
       "    </tr>\n",
       "  </tbody>\n",
       "</table>\n",
       "</div>"
      ],
      "text/plain": [
       "       A   B   C    D\n",
       "Row 1  1  10  20   62\n",
       "Row 2  2  20  40  124\n",
       "Row 3  3  30  60  186\n",
       "Row 4  4  40  80  248"
      ]
     },
     "execution_count": 4,
     "metadata": {},
     "output_type": "execute_result"
    }
   ],
   "source": [
    "# The Pandas apply() is used to apply a function along an axis of the DataFrame or on values of Series.\n",
    "# Let’s begin with a simple example, to sum each row and save the result to a new column “D”\n",
    "# Let's call this \"custom_sum\" as \"sum\" is a built-in function\n",
    "def custom_sum(row):\n",
    "    return row.sum()\n",
    "df['D'] = df.apply(custom_sum, axis=1)\n",
    "df"
   ]
  },
  {
   "cell_type": "markdown",
   "metadata": {},
   "source": [
    "Do you really understand what just happened?\n",
    "Let’s take a look df.apply(custom_sum, axis=1)\n",
    "The first parameter custom_sum is a function.\n",
    "The second parameter axis is to specify which axis the function is applied to. 0 for applying the function to each column and 1 for applying the function to each row.\n",
    "Let me explain this process in a more intuitive way. The second parameter axis = 1 tells Pandas to use the row. So, the custom_sum is applied to each row and returns a new Series with the output of each row as value."
   ]
  },
  {
   "cell_type": "code",
   "execution_count": 6,
   "metadata": {},
   "outputs": [
    {
     "data": {
      "text/html": [
       "<div>\n",
       "<style scoped>\n",
       "    .dataframe tbody tr th:only-of-type {\n",
       "        vertical-align: middle;\n",
       "    }\n",
       "\n",
       "    .dataframe tbody tr th {\n",
       "        vertical-align: top;\n",
       "    }\n",
       "\n",
       "    .dataframe thead th {\n",
       "        text-align: right;\n",
       "    }\n",
       "</style>\n",
       "<table border=\"1\" class=\"dataframe\">\n",
       "  <thead>\n",
       "    <tr style=\"text-align: right;\">\n",
       "      <th></th>\n",
       "      <th>A</th>\n",
       "      <th>B</th>\n",
       "      <th>C</th>\n",
       "      <th>D</th>\n",
       "    </tr>\n",
       "  </thead>\n",
       "  <tbody>\n",
       "    <tr>\n",
       "      <th>Row 1</th>\n",
       "      <td>1</td>\n",
       "      <td>10</td>\n",
       "      <td>20</td>\n",
       "      <td>62</td>\n",
       "    </tr>\n",
       "    <tr>\n",
       "      <th>Row 2</th>\n",
       "      <td>2</td>\n",
       "      <td>20</td>\n",
       "      <td>40</td>\n",
       "      <td>124</td>\n",
       "    </tr>\n",
       "    <tr>\n",
       "      <th>Row 3</th>\n",
       "      <td>3</td>\n",
       "      <td>30</td>\n",
       "      <td>60</td>\n",
       "      <td>186</td>\n",
       "    </tr>\n",
       "    <tr>\n",
       "      <th>Row 4</th>\n",
       "      <td>4</td>\n",
       "      <td>40</td>\n",
       "      <td>80</td>\n",
       "      <td>248</td>\n",
       "    </tr>\n",
       "    <tr>\n",
       "      <th>Row 5</th>\n",
       "      <td>20</td>\n",
       "      <td>200</td>\n",
       "      <td>400</td>\n",
       "      <td>1240</td>\n",
       "    </tr>\n",
       "  </tbody>\n",
       "</table>\n",
       "</div>"
      ],
      "text/plain": [
       "        A    B    C     D\n",
       "Row 1   1   10   20    62\n",
       "Row 2   2   20   40   124\n",
       "Row 3   3   30   60   186\n",
       "Row 4   4   40   80   248\n",
       "Row 5  20  200  400  1240"
      ]
     },
     "execution_count": 6,
     "metadata": {},
     "output_type": "execute_result"
    }
   ],
   "source": [
    "# With the understanding of the sum of each row, the sum of each column is just to use axis = 0 instead\n",
    "df.loc['Row 5'] = df.apply(custom_sum, axis=0)\n",
    "df"
   ]
  },
  {
   "cell_type": "code",
   "execution_count": 7,
   "metadata": {},
   "outputs": [
    {
     "data": {
      "text/html": [
       "<div>\n",
       "<style scoped>\n",
       "    .dataframe tbody tr th:only-of-type {\n",
       "        vertical-align: middle;\n",
       "    }\n",
       "\n",
       "    .dataframe tbody tr th {\n",
       "        vertical-align: top;\n",
       "    }\n",
       "\n",
       "    .dataframe thead th {\n",
       "        text-align: right;\n",
       "    }\n",
       "</style>\n",
       "<table border=\"1\" class=\"dataframe\">\n",
       "  <thead>\n",
       "    <tr style=\"text-align: right;\">\n",
       "      <th></th>\n",
       "      <th>A</th>\n",
       "      <th>B</th>\n",
       "      <th>C</th>\n",
       "      <th>D</th>\n",
       "    </tr>\n",
       "  </thead>\n",
       "  <tbody>\n",
       "    <tr>\n",
       "      <th>Row 1</th>\n",
       "      <td>1</td>\n",
       "      <td>10</td>\n",
       "      <td>20</td>\n",
       "      <td>40</td>\n",
       "    </tr>\n",
       "    <tr>\n",
       "      <th>Row 2</th>\n",
       "      <td>2</td>\n",
       "      <td>20</td>\n",
       "      <td>40</td>\n",
       "      <td>80</td>\n",
       "    </tr>\n",
       "    <tr>\n",
       "      <th>Row 3</th>\n",
       "      <td>3</td>\n",
       "      <td>30</td>\n",
       "      <td>60</td>\n",
       "      <td>120</td>\n",
       "    </tr>\n",
       "    <tr>\n",
       "      <th>Row 4</th>\n",
       "      <td>4</td>\n",
       "      <td>40</td>\n",
       "      <td>80</td>\n",
       "      <td>160</td>\n",
       "    </tr>\n",
       "    <tr>\n",
       "      <th>Row 5</th>\n",
       "      <td>20</td>\n",
       "      <td>200</td>\n",
       "      <td>400</td>\n",
       "      <td>800</td>\n",
       "    </tr>\n",
       "  </tbody>\n",
       "</table>\n",
       "</div>"
      ],
      "text/plain": [
       "        A    B    C    D\n",
       "Row 1   1   10   20   40\n",
       "Row 2   2   20   40   80\n",
       "Row 3   3   30   60  120\n",
       "Row 4   4   40   80  160\n",
       "Row 5  20  200  400  800"
      ]
     },
     "execution_count": 7,
     "metadata": {},
     "output_type": "execute_result"
    }
   ],
   "source": [
    "def multiply_by_2(val):\n",
    "    return val * 2\n",
    "df['D'] = df['C'].apply(multiply_by_2)\n",
    "df"
   ]
  },
  {
   "cell_type": "code",
   "execution_count": 8,
   "metadata": {},
   "outputs": [
    {
     "data": {
      "text/html": [
       "<div>\n",
       "<style scoped>\n",
       "    .dataframe tbody tr th:only-of-type {\n",
       "        vertical-align: middle;\n",
       "    }\n",
       "\n",
       "    .dataframe tbody tr th {\n",
       "        vertical-align: top;\n",
       "    }\n",
       "\n",
       "    .dataframe thead th {\n",
       "        text-align: right;\n",
       "    }\n",
       "</style>\n",
       "<table border=\"1\" class=\"dataframe\">\n",
       "  <thead>\n",
       "    <tr style=\"text-align: right;\">\n",
       "      <th></th>\n",
       "      <th>A</th>\n",
       "      <th>B</th>\n",
       "      <th>C</th>\n",
       "      <th>D</th>\n",
       "    </tr>\n",
       "  </thead>\n",
       "  <tbody>\n",
       "    <tr>\n",
       "      <th>Row 1</th>\n",
       "      <td>1</td>\n",
       "      <td>10</td>\n",
       "      <td>20</td>\n",
       "      <td>71</td>\n",
       "    </tr>\n",
       "    <tr>\n",
       "      <th>Row 2</th>\n",
       "      <td>2</td>\n",
       "      <td>20</td>\n",
       "      <td>40</td>\n",
       "      <td>142</td>\n",
       "    </tr>\n",
       "    <tr>\n",
       "      <th>Row 3</th>\n",
       "      <td>3</td>\n",
       "      <td>30</td>\n",
       "      <td>60</td>\n",
       "      <td>213</td>\n",
       "    </tr>\n",
       "    <tr>\n",
       "      <th>Row 4</th>\n",
       "      <td>4</td>\n",
       "      <td>40</td>\n",
       "      <td>80</td>\n",
       "      <td>284</td>\n",
       "    </tr>\n",
       "    <tr>\n",
       "      <th>Row 5</th>\n",
       "      <td>20</td>\n",
       "      <td>200</td>\n",
       "      <td>400</td>\n",
       "      <td>1420</td>\n",
       "    </tr>\n",
       "  </tbody>\n",
       "</table>\n",
       "</div>"
      ],
      "text/plain": [
       "        A    B    C     D\n",
       "Row 1   1   10   20    71\n",
       "Row 2   2   20   40   142\n",
       "Row 3   3   30   60   213\n",
       "Row 4   4   40   80   284\n",
       "Row 5  20  200  400  1420"
      ]
     },
     "execution_count": 8,
     "metadata": {},
     "output_type": "execute_result"
    }
   ],
   "source": [
    "# You can also use lambda expression with Pandas apply() function.\n",
    "# The lambda equivalent for the sum of each row of a DataFrame:\n",
    "df['D'] = df.apply(lambda x:x.sum(), axis=1)\n",
    "df"
   ]
  },
  {
   "cell_type": "code",
   "execution_count": 9,
   "metadata": {},
   "outputs": [
    {
     "data": {
      "text/html": [
       "<div>\n",
       "<style scoped>\n",
       "    .dataframe tbody tr th:only-of-type {\n",
       "        vertical-align: middle;\n",
       "    }\n",
       "\n",
       "    .dataframe tbody tr th {\n",
       "        vertical-align: top;\n",
       "    }\n",
       "\n",
       "    .dataframe thead th {\n",
       "        text-align: right;\n",
       "    }\n",
       "</style>\n",
       "<table border=\"1\" class=\"dataframe\">\n",
       "  <thead>\n",
       "    <tr style=\"text-align: right;\">\n",
       "      <th></th>\n",
       "      <th>A</th>\n",
       "      <th>B</th>\n",
       "      <th>C</th>\n",
       "      <th>D</th>\n",
       "    </tr>\n",
       "  </thead>\n",
       "  <tbody>\n",
       "    <tr>\n",
       "      <th>Row 1</th>\n",
       "      <td>1</td>\n",
       "      <td>10</td>\n",
       "      <td>20</td>\n",
       "      <td>71</td>\n",
       "    </tr>\n",
       "    <tr>\n",
       "      <th>Row 2</th>\n",
       "      <td>2</td>\n",
       "      <td>20</td>\n",
       "      <td>40</td>\n",
       "      <td>142</td>\n",
       "    </tr>\n",
       "    <tr>\n",
       "      <th>Row 3</th>\n",
       "      <td>3</td>\n",
       "      <td>30</td>\n",
       "      <td>60</td>\n",
       "      <td>213</td>\n",
       "    </tr>\n",
       "    <tr>\n",
       "      <th>Row 4</th>\n",
       "      <td>4</td>\n",
       "      <td>40</td>\n",
       "      <td>80</td>\n",
       "      <td>284</td>\n",
       "    </tr>\n",
       "    <tr>\n",
       "      <th>Row 5</th>\n",
       "      <td>30</td>\n",
       "      <td>300</td>\n",
       "      <td>600</td>\n",
       "      <td>2130</td>\n",
       "    </tr>\n",
       "  </tbody>\n",
       "</table>\n",
       "</div>"
      ],
      "text/plain": [
       "        A    B    C     D\n",
       "Row 1   1   10   20    71\n",
       "Row 2   2   20   40   142\n",
       "Row 3   3   30   60   213\n",
       "Row 4   4   40   80   284\n",
       "Row 5  30  300  600  2130"
      ]
     },
     "execution_count": 9,
     "metadata": {},
     "output_type": "execute_result"
    }
   ],
   "source": [
    "# The lambda equivalent for the sum of each column of a DataFrame:\n",
    "df.loc['Row 5'] = df.apply(lambda x:x.sum(), axis=0)\n",
    "df"
   ]
  },
  {
   "cell_type": "code",
   "execution_count": 10,
   "metadata": {},
   "outputs": [],
   "source": [
    "# And the lambda equivalent for multiply by 2 on a Series:\n",
    "df['D'] = df['C'].apply(lambda x:x*2)"
   ]
  },
  {
   "cell_type": "markdown",
   "metadata": {},
   "source": [
    "### With result_type parameter\n",
    "result_type is a parameter in apply() set to 'expand', 'reduce', or 'broadcast' to get the desired type of result.\n",
    "In the above scenario if result_type is set to 'broadcast' then the output will be a DataFrame substituted by the custom_sum value."
   ]
  },
  {
   "cell_type": "code",
   "execution_count": 11,
   "metadata": {},
   "outputs": [
    {
     "data": {
      "text/html": [
       "<div>\n",
       "<style scoped>\n",
       "    .dataframe tbody tr th:only-of-type {\n",
       "        vertical-align: middle;\n",
       "    }\n",
       "\n",
       "    .dataframe tbody tr th {\n",
       "        vertical-align: top;\n",
       "    }\n",
       "\n",
       "    .dataframe thead th {\n",
       "        text-align: right;\n",
       "    }\n",
       "</style>\n",
       "<table border=\"1\" class=\"dataframe\">\n",
       "  <thead>\n",
       "    <tr style=\"text-align: right;\">\n",
       "      <th></th>\n",
       "      <th>A</th>\n",
       "      <th>B</th>\n",
       "      <th>C</th>\n",
       "      <th>D</th>\n",
       "    </tr>\n",
       "  </thead>\n",
       "  <tbody>\n",
       "    <tr>\n",
       "      <th>Row 1</th>\n",
       "      <td>71</td>\n",
       "      <td>71</td>\n",
       "      <td>71</td>\n",
       "      <td>71</td>\n",
       "    </tr>\n",
       "    <tr>\n",
       "      <th>Row 2</th>\n",
       "      <td>142</td>\n",
       "      <td>142</td>\n",
       "      <td>142</td>\n",
       "      <td>142</td>\n",
       "    </tr>\n",
       "    <tr>\n",
       "      <th>Row 3</th>\n",
       "      <td>213</td>\n",
       "      <td>213</td>\n",
       "      <td>213</td>\n",
       "      <td>213</td>\n",
       "    </tr>\n",
       "    <tr>\n",
       "      <th>Row 4</th>\n",
       "      <td>284</td>\n",
       "      <td>284</td>\n",
       "      <td>284</td>\n",
       "      <td>284</td>\n",
       "    </tr>\n",
       "    <tr>\n",
       "      <th>Row 5</th>\n",
       "      <td>2130</td>\n",
       "      <td>2130</td>\n",
       "      <td>2130</td>\n",
       "      <td>2130</td>\n",
       "    </tr>\n",
       "  </tbody>\n",
       "</table>\n",
       "</div>"
      ],
      "text/plain": [
       "          A     B     C     D\n",
       "Row 1    71    71    71    71\n",
       "Row 2   142   142   142   142\n",
       "Row 3   213   213   213   213\n",
       "Row 4   284   284   284   284\n",
       "Row 5  2130  2130  2130  2130"
      ]
     },
     "execution_count": 11,
     "metadata": {},
     "output_type": "execute_result"
    }
   ],
   "source": [
    "df.apply(custom_sum, axis=1, result_type='broadcast')\n",
    "# The result is broadcasted to the original shape of the frame, the original index and columns are retained."
   ]
  },
  {
   "cell_type": "code",
   "execution_count": 12,
   "metadata": {},
   "outputs": [
    {
     "data": {
      "text/html": [
       "<div>\n",
       "<style scoped>\n",
       "    .dataframe tbody tr th:only-of-type {\n",
       "        vertical-align: middle;\n",
       "    }\n",
       "\n",
       "    .dataframe tbody tr th {\n",
       "        vertical-align: top;\n",
       "    }\n",
       "\n",
       "    .dataframe thead th {\n",
       "        text-align: right;\n",
       "    }\n",
       "</style>\n",
       "<table border=\"1\" class=\"dataframe\">\n",
       "  <thead>\n",
       "    <tr style=\"text-align: right;\">\n",
       "      <th></th>\n",
       "      <th>0</th>\n",
       "      <th>1</th>\n",
       "    </tr>\n",
       "  </thead>\n",
       "  <tbody>\n",
       "    <tr>\n",
       "      <th>Row 1</th>\n",
       "      <td>2</td>\n",
       "      <td>30</td>\n",
       "    </tr>\n",
       "    <tr>\n",
       "      <th>Row 2</th>\n",
       "      <td>4</td>\n",
       "      <td>60</td>\n",
       "    </tr>\n",
       "    <tr>\n",
       "      <th>Row 3</th>\n",
       "      <td>6</td>\n",
       "      <td>90</td>\n",
       "    </tr>\n",
       "    <tr>\n",
       "      <th>Row 4</th>\n",
       "      <td>8</td>\n",
       "      <td>120</td>\n",
       "    </tr>\n",
       "    <tr>\n",
       "      <th>Row 5</th>\n",
       "      <td>60</td>\n",
       "      <td>900</td>\n",
       "    </tr>\n",
       "  </tbody>\n",
       "</table>\n",
       "</div>"
      ],
      "text/plain": [
       "        0    1\n",
       "Row 1   2   30\n",
       "Row 2   4   60\n",
       "Row 3   6   90\n",
       "Row 4   8  120\n",
       "Row 5  60  900"
      ]
     },
     "execution_count": 12,
     "metadata": {},
     "output_type": "execute_result"
    }
   ],
   "source": [
    "# To understand result_type as 'expand' and 'reduce', we will first create a function that returns a list.\n",
    "def cal_multi_col(row):\n",
    "    return [row['A'] * 2, row['B'] * 3]\n",
    "\n",
    "df.apply(cal_multi_col, axis=1, result_type='expand')\n",
    "# The output is a new DataFrame with column names 0 and 1."
   ]
  },
  {
   "cell_type": "code",
   "execution_count": 13,
   "metadata": {},
   "outputs": [],
   "source": [
    "# In order to append this to the existing DataFrame, \n",
    "# the result has to be kept in a variable so the column names can be accessed by res.columns.\n",
    "res = df.apply(cal_multi_col, axis=1, result_type='expand')\n",
    "df[res.columns] = res"
   ]
  },
  {
   "cell_type": "code",
   "execution_count": 14,
   "metadata": {},
   "outputs": [
    {
     "data": {
      "text/html": [
       "<div>\n",
       "<style scoped>\n",
       "    .dataframe tbody tr th:only-of-type {\n",
       "        vertical-align: middle;\n",
       "    }\n",
       "\n",
       "    .dataframe tbody tr th {\n",
       "        vertical-align: top;\n",
       "    }\n",
       "\n",
       "    .dataframe thead th {\n",
       "        text-align: right;\n",
       "    }\n",
       "</style>\n",
       "<table border=\"1\" class=\"dataframe\">\n",
       "  <thead>\n",
       "    <tr style=\"text-align: right;\">\n",
       "      <th></th>\n",
       "      <th>A</th>\n",
       "      <th>B</th>\n",
       "      <th>C</th>\n",
       "      <th>D</th>\n",
       "      <th>0</th>\n",
       "      <th>1</th>\n",
       "    </tr>\n",
       "  </thead>\n",
       "  <tbody>\n",
       "    <tr>\n",
       "      <th>Row 1</th>\n",
       "      <td>1</td>\n",
       "      <td>10</td>\n",
       "      <td>20</td>\n",
       "      <td>40</td>\n",
       "      <td>2</td>\n",
       "      <td>30</td>\n",
       "    </tr>\n",
       "    <tr>\n",
       "      <th>Row 2</th>\n",
       "      <td>2</td>\n",
       "      <td>20</td>\n",
       "      <td>40</td>\n",
       "      <td>80</td>\n",
       "      <td>4</td>\n",
       "      <td>60</td>\n",
       "    </tr>\n",
       "    <tr>\n",
       "      <th>Row 3</th>\n",
       "      <td>3</td>\n",
       "      <td>30</td>\n",
       "      <td>60</td>\n",
       "      <td>120</td>\n",
       "      <td>6</td>\n",
       "      <td>90</td>\n",
       "    </tr>\n",
       "    <tr>\n",
       "      <th>Row 4</th>\n",
       "      <td>4</td>\n",
       "      <td>40</td>\n",
       "      <td>80</td>\n",
       "      <td>160</td>\n",
       "      <td>8</td>\n",
       "      <td>120</td>\n",
       "    </tr>\n",
       "    <tr>\n",
       "      <th>Row 5</th>\n",
       "      <td>30</td>\n",
       "      <td>300</td>\n",
       "      <td>600</td>\n",
       "      <td>1200</td>\n",
       "      <td>60</td>\n",
       "      <td>900</td>\n",
       "    </tr>\n",
       "  </tbody>\n",
       "</table>\n",
       "</div>"
      ],
      "text/plain": [
       "        A    B    C     D   0    1\n",
       "Row 1   1   10   20    40   2   30\n",
       "Row 2   2   20   40    80   4   60\n",
       "Row 3   3   30   60   120   6   90\n",
       "Row 4   4   40   80   160   8  120\n",
       "Row 5  30  300  600  1200  60  900"
      ]
     },
     "execution_count": 14,
     "metadata": {},
     "output_type": "execute_result"
    }
   ],
   "source": [
    "df"
   ]
  },
  {
   "cell_type": "code",
   "execution_count": 15,
   "metadata": {},
   "outputs": [
    {
     "data": {
      "text/html": [
       "<div>\n",
       "<style scoped>\n",
       "    .dataframe tbody tr th:only-of-type {\n",
       "        vertical-align: middle;\n",
       "    }\n",
       "\n",
       "    .dataframe tbody tr th {\n",
       "        vertical-align: top;\n",
       "    }\n",
       "\n",
       "    .dataframe thead th {\n",
       "        text-align: right;\n",
       "    }\n",
       "</style>\n",
       "<table border=\"1\" class=\"dataframe\">\n",
       "  <thead>\n",
       "    <tr style=\"text-align: right;\">\n",
       "      <th></th>\n",
       "      <th>A</th>\n",
       "      <th>B</th>\n",
       "      <th>C</th>\n",
       "      <th>D</th>\n",
       "      <th>0</th>\n",
       "      <th>1</th>\n",
       "      <th>New</th>\n",
       "    </tr>\n",
       "  </thead>\n",
       "  <tbody>\n",
       "    <tr>\n",
       "      <th>Row 1</th>\n",
       "      <td>1</td>\n",
       "      <td>10</td>\n",
       "      <td>20</td>\n",
       "      <td>40</td>\n",
       "      <td>2</td>\n",
       "      <td>30</td>\n",
       "      <td>[2, 30]</td>\n",
       "    </tr>\n",
       "    <tr>\n",
       "      <th>Row 2</th>\n",
       "      <td>2</td>\n",
       "      <td>20</td>\n",
       "      <td>40</td>\n",
       "      <td>80</td>\n",
       "      <td>4</td>\n",
       "      <td>60</td>\n",
       "      <td>[4, 60]</td>\n",
       "    </tr>\n",
       "    <tr>\n",
       "      <th>Row 3</th>\n",
       "      <td>3</td>\n",
       "      <td>30</td>\n",
       "      <td>60</td>\n",
       "      <td>120</td>\n",
       "      <td>6</td>\n",
       "      <td>90</td>\n",
       "      <td>[6, 90]</td>\n",
       "    </tr>\n",
       "    <tr>\n",
       "      <th>Row 4</th>\n",
       "      <td>4</td>\n",
       "      <td>40</td>\n",
       "      <td>80</td>\n",
       "      <td>160</td>\n",
       "      <td>8</td>\n",
       "      <td>120</td>\n",
       "      <td>[8, 120]</td>\n",
       "    </tr>\n",
       "    <tr>\n",
       "      <th>Row 5</th>\n",
       "      <td>30</td>\n",
       "      <td>300</td>\n",
       "      <td>600</td>\n",
       "      <td>1200</td>\n",
       "      <td>60</td>\n",
       "      <td>900</td>\n",
       "      <td>[60, 900]</td>\n",
       "    </tr>\n",
       "  </tbody>\n",
       "</table>\n",
       "</div>"
      ],
      "text/plain": [
       "        A    B    C     D   0    1        New\n",
       "Row 1   1   10   20    40   2   30    [2, 30]\n",
       "Row 2   2   20   40    80   4   60    [4, 60]\n",
       "Row 3   3   30   60   120   6   90    [6, 90]\n",
       "Row 4   4   40   80   160   8  120   [8, 120]\n",
       "Row 5  30  300  600  1200  60  900  [60, 900]"
      ]
     },
     "execution_count": 15,
     "metadata": {},
     "output_type": "execute_result"
    }
   ],
   "source": [
    "# Next, apply the function across the DataFrame column with result_type as 'reduce' .\n",
    "# result_type='reduce' is just opposite of 'expand' \n",
    "# and returns a Series if possible rather than expanding list-like results.\n",
    "df['New'] = df.apply(cal_multi_col, axis=1, result_type='reduce')\n",
    "df"
   ]
  },
  {
   "cell_type": "markdown",
   "metadata": {},
   "source": [
    "### How to use applymap()?\n",
    "applymap() is only available in DataFrame and used for element-wise operation across the whole DataFrame. It has been optimized and some cases work much faster than apply() , but it’s good to compare it with apply() before going for any heavier operation.\n"
   ]
  },
  {
   "cell_type": "code",
   "execution_count": 17,
   "metadata": {},
   "outputs": [
    {
     "data": {
      "text/html": [
       "<div>\n",
       "<style scoped>\n",
       "    .dataframe tbody tr th:only-of-type {\n",
       "        vertical-align: middle;\n",
       "    }\n",
       "\n",
       "    .dataframe tbody tr th {\n",
       "        vertical-align: top;\n",
       "    }\n",
       "\n",
       "    .dataframe thead th {\n",
       "        text-align: right;\n",
       "    }\n",
       "</style>\n",
       "<table border=\"1\" class=\"dataframe\">\n",
       "  <thead>\n",
       "    <tr style=\"text-align: right;\">\n",
       "      <th></th>\n",
       "      <th>A</th>\n",
       "      <th>B</th>\n",
       "      <th>C</th>\n",
       "      <th>D</th>\n",
       "      <th>0</th>\n",
       "      <th>1</th>\n",
       "      <th>New</th>\n",
       "    </tr>\n",
       "  </thead>\n",
       "  <tbody>\n",
       "    <tr>\n",
       "      <th>Row 1</th>\n",
       "      <td>1</td>\n",
       "      <td>100</td>\n",
       "      <td>400</td>\n",
       "      <td>1600</td>\n",
       "      <td>4</td>\n",
       "      <td>900</td>\n",
       "      <td>[4, 900]</td>\n",
       "    </tr>\n",
       "    <tr>\n",
       "      <th>Row 2</th>\n",
       "      <td>4</td>\n",
       "      <td>400</td>\n",
       "      <td>1600</td>\n",
       "      <td>6400</td>\n",
       "      <td>16</td>\n",
       "      <td>3600</td>\n",
       "      <td>[16, 3600]</td>\n",
       "    </tr>\n",
       "    <tr>\n",
       "      <th>Row 3</th>\n",
       "      <td>9</td>\n",
       "      <td>900</td>\n",
       "      <td>3600</td>\n",
       "      <td>14400</td>\n",
       "      <td>36</td>\n",
       "      <td>8100</td>\n",
       "      <td>[36, 8100]</td>\n",
       "    </tr>\n",
       "    <tr>\n",
       "      <th>Row 4</th>\n",
       "      <td>16</td>\n",
       "      <td>1600</td>\n",
       "      <td>6400</td>\n",
       "      <td>25600</td>\n",
       "      <td>64</td>\n",
       "      <td>14400</td>\n",
       "      <td>[64, 14400]</td>\n",
       "    </tr>\n",
       "    <tr>\n",
       "      <th>Row 5</th>\n",
       "      <td>900</td>\n",
       "      <td>90000</td>\n",
       "      <td>360000</td>\n",
       "      <td>1440000</td>\n",
       "      <td>3600</td>\n",
       "      <td>810000</td>\n",
       "      <td>[3600, 810000]</td>\n",
       "    </tr>\n",
       "  </tbody>\n",
       "</table>\n",
       "</div>"
      ],
      "text/plain": [
       "         A      B       C        D     0       1             New\n",
       "Row 1    1    100     400     1600     4     900        [4, 900]\n",
       "Row 2    4    400    1600     6400    16    3600      [16, 3600]\n",
       "Row 3    9    900    3600    14400    36    8100      [36, 8100]\n",
       "Row 4   16   1600    6400    25600    64   14400     [64, 14400]\n",
       "Row 5  900  90000  360000  1440000  3600  810000  [3600, 810000]"
      ]
     },
     "execution_count": 17,
     "metadata": {},
     "output_type": "execute_result"
    }
   ],
   "source": [
    "# For example: to output a DataFrame with number squared\n",
    "import numpy as np\n",
    "df.applymap(np.square)"
   ]
  },
  {
   "cell_type": "markdown",
   "metadata": {},
   "source": [
    "### How to use map()?\n",
    "map() is only available in Series and used for substituting each value in a Series with another value. To understand how the map() works, we first create a Series."
   ]
  },
  {
   "cell_type": "code",
   "execution_count": 18,
   "metadata": {},
   "outputs": [
    {
     "data": {
      "text/plain": [
       "0       cat\n",
       "1       dog\n",
       "2       NaN\n",
       "3    rabbit\n",
       "dtype: object"
      ]
     },
     "execution_count": 18,
     "metadata": {},
     "output_type": "execute_result"
    }
   ],
   "source": [
    "s = pd.Series(['cat', 'dog', np.nan, 'rabbit'])\n",
    "s"
   ]
  },
  {
   "cell_type": "code",
   "execution_count": 19,
   "metadata": {},
   "outputs": [
    {
     "data": {
      "text/plain": [
       "0    kitten\n",
       "1     puppy\n",
       "2       NaN\n",
       "3       NaN\n",
       "dtype: object"
      ]
     },
     "execution_count": 19,
     "metadata": {},
     "output_type": "execute_result"
    }
   ],
   "source": [
    "s.map({'cat': 'kitten', 'dog': 'puppy'})"
   ]
  },
  {
   "cell_type": "code",
   "execution_count": 20,
   "metadata": {},
   "outputs": [
    {
     "data": {
      "text/plain": [
       "0       I am a cat\n",
       "1       I am a dog\n",
       "2       I am a nan\n",
       "3    I am a rabbit\n",
       "dtype: object"
      ]
     },
     "execution_count": 20,
     "metadata": {},
     "output_type": "execute_result"
    }
   ],
   "source": [
    "s.map('I am a {}'.format)"
   ]
  },
  {
   "cell_type": "code",
   "execution_count": 21,
   "metadata": {},
   "outputs": [
    {
     "data": {
      "text/plain": [
       "0       I am a cat\n",
       "1       I am a dog\n",
       "2              NaN\n",
       "3    I am a rabbit\n",
       "dtype: object"
      ]
     },
     "execution_count": 21,
     "metadata": {},
     "output_type": "execute_result"
    }
   ],
   "source": [
    "s.map('I am a {}'.format, na_action='ignore')"
   ]
  },
  {
   "cell_type": "markdown",
   "metadata": {},
   "source": [
    "## Summary\n",
    "Finally, here is a summary:\n",
    "### For DataFrame:\n",
    "apply(): It is used when you want to apply a function along the row or column. axis = 0 for column and axis = 1 for row.\n",
    "\n",
    "applymap(): It is used for element-wise operation across the whole DataFrame.\n",
    "### For Series:\n",
    "apply(): It is used when you want to apply a function on the values of Series.\n",
    "\n",
    "map(): It is used to substitute each value with another value."
   ]
  },
  {
   "cell_type": "code",
   "execution_count": null,
   "metadata": {},
   "outputs": [],
   "source": []
  }
 ],
 "metadata": {
  "kernelspec": {
   "display_name": "Python 3",
   "language": "python",
   "name": "python3"
  },
  "language_info": {
   "codemirror_mode": {
    "name": "ipython",
    "version": 3
   },
   "file_extension": ".py",
   "mimetype": "text/x-python",
   "name": "python",
   "nbconvert_exporter": "python",
   "pygments_lexer": "ipython3",
   "version": "3.7.1"
  }
 },
 "nbformat": 4,
 "nbformat_minor": 4
}
