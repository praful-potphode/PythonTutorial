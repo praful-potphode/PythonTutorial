{
 "cells": [
  {
   "cell_type": "markdown",
   "metadata": {},
   "source": [
    "### What is a static method?\n",
    "Static methods, much like class methods, are methods that are bound to a class rather than its object.\n",
    "\n",
    "They do not require a class instance creation. So, they are not dependent on the state of the object.\n",
    "\n",
    "The difference between a static method and a class method is:\n",
    "\n",
    "Static method knows nothing about the class and just deals with the parameters.\n",
    "Class method works with the class since its parameter is always the class itself.\n",
    "They can be called both by the class and its object."
   ]
  },
  {
   "cell_type": "markdown",
   "metadata": {},
   "source": [
    "Class.staticmethodFunc()\n",
    "\n",
    "or\n",
    "\n",
    "\n",
    "Class().staticmethodFunc()"
   ]
  },
  {
   "cell_type": "markdown",
   "metadata": {},
   "source": [
    "### Example 1: Create a static method using staticmethod()"
   ]
  },
  {
   "cell_type": "code",
   "execution_count": 1,
   "metadata": {},
   "outputs": [
    {
     "name": "stdout",
     "output_type": "stream",
     "text": [
      "The sum is: 15\n"
     ]
    }
   ],
   "source": [
    "class Mathematics:\n",
    "\n",
    "    def addNumbers(x, y):\n",
    "        return x + y\n",
    "\n",
    "# create addNumbers static method\n",
    "Mathematics.addNumbers = staticmethod(Mathematics.addNumbers)\n",
    "\n",
    "print('The sum is:', Mathematics.addNumbers(5, 10))"
   ]
  },
  {
   "cell_type": "markdown",
   "metadata": {},
   "source": [
    "# When do you use static methods?"
   ]
  },
  {
   "cell_type": "markdown",
   "metadata": {},
   "source": [
    "### 1. Grouping utility function to a class ###\n",
    "\n",
    "Static methods have a limited use case because, like class methods or any other methods within a class, they cannot access the properties of the class itself.\n",
    "\n",
    "However, when you need a utility function that doesn't access any properties of a class but makes sense that it belongs to the class, we use static functions.\n"
   ]
  },
  {
   "cell_type": "markdown",
   "metadata": {},
   "source": [
    "### Example 2: Create a utility function as a static method"
   ]
  },
  {
   "cell_type": "code",
   "execution_count": null,
   "metadata": {},
   "outputs": [],
   "source": [
    "\n",
    "class Dates:\n",
    "    def __init__(self, date):\n",
    "        self.date = date\n",
    "        \n",
    "    def getDate(self):\n",
    "        return self.date\n",
    "\n",
    "    @staticmethod\n",
    "    def toDashDate(date):\n",
    "        return date.replace(\"/\", \"-\")\n",
    "\n",
    "date = Dates(\"15-12-2016\")\n",
    "dateFromDB = \"15/12/2016\"\n",
    "dateWithDash = Dates.toDashDate(dateFromDB)\n",
    "\n",
    "if(date.getDate() == dateWithDash):\n",
    "    print(\"Equal\")\n",
    "else:\n",
    "    print(\"Unequal\")"
   ]
  },
  {
   "cell_type": "markdown",
   "metadata": {},
   "source": [
    "Here, we have a Dates class that only works with dates with dashes. However, in our previous database, all dates were present in slashes.\n",
    "\n",
    "In order to convert the slash-dates to dash-dates, we have created a utility function toDashDate within Dates.\n",
    "\n",
    "It is a static method because it doesn't need to access any properties of Dates itself and only requires the parameters.\n",
    "\n",
    "We can also create toDashDate outside the class, but since it works only for dates, it's logical to keep it inside the Dates class."
   ]
  },
  {
   "cell_type": "markdown",
   "metadata": {},
   "source": [
    "### 2. Having a single implementation ###\n",
    "Static methods are used when we don't want subclasses of a class change/override a specific implementation of a method."
   ]
  },
  {
   "cell_type": "markdown",
   "metadata": {},
   "source": [
    "### Example 3: How inheritance works with static method?"
   ]
  },
  {
   "cell_type": "code",
   "execution_count": 2,
   "metadata": {},
   "outputs": [
    {
     "name": "stdout",
     "output_type": "stream",
     "text": [
      "Equal\n"
     ]
    }
   ],
   "source": [
    "class Dates:\n",
    "    def __init__(self, date):\n",
    "        self.date = date\n",
    "        \n",
    "    def getDate(self):\n",
    "        return self.date\n",
    "\n",
    "    @staticmethod\n",
    "    def toDashDate(date):\n",
    "        return date.replace(\"/\", \"-\")\n",
    "\n",
    "class DatesWithSlashes(Dates):\n",
    "    def getDate(self):\n",
    "        return Dates.toDashDate(self.date)\n",
    "\n",
    "date = Dates(\"15-12-2016\")\n",
    "dateFromDB = DatesWithSlashes(\"15/12/2016\")\n",
    "\n",
    "if(date.getDate() == dateFromDB.getDate()):\n",
    "    print(\"Equal\")\n",
    "else:\n",
    "    print(\"Unequal\")"
   ]
  },
  {
   "cell_type": "code",
   "execution_count": 3,
   "metadata": {},
   "outputs": [
    {
     "name": "stdout",
     "output_type": "stream",
     "text": [
      "Sarah 25\n",
      "Roark 26\n",
      "True\n"
     ]
    }
   ],
   "source": [
    "from datetime import date\n",
    "class Person:\n",
    "    def __init__(self, name, age):\n",
    "        self.name = name\n",
    "        self.age = age\n",
    "    @classmethod\n",
    "    def from_birth_year(cls, name, year):\n",
    "        return cls(name, date.today().year - year)\n",
    "    @staticmethod\n",
    "    def is_adult(age):\n",
    "        return age > 18\n",
    "person1 = Person('Sarah', 25)\n",
    "person2 = Person.from_birth_year('Roark', 1994)\n",
    "print(person1.name, person1.age)\n",
    "print(person2.name, person2.age)\n",
    "print(Person.is_adult(25))"
   ]
  },
  {
   "cell_type": "code",
   "execution_count": 4,
   "metadata": {},
   "outputs": [
    {
     "name": "stdout",
     "output_type": "stream",
     "text": [
      "Equal\n"
     ]
    }
   ],
   "source": [
    "class Math:\n",
    "    @staticmethod\n",
    "    def Multiply(one, two):\n",
    "        return one * two\n",
    "math = Math()\n",
    "if(12*72 == math.Multiply(12, 72)):\n",
    "    print(\"Equal\")\n",
    "else:\n",
    "    print(\"Not Equal\")"
   ]
  },
  {
   "cell_type": "code",
   "execution_count": 5,
   "metadata": {},
   "outputs": [
    {
     "name": "stdout",
     "output_type": "stream",
     "text": [
      "Fido says: woof! woof! woof! \n",
      "There are 1 dogs.\n",
      "They are:\n",
      "  Fido\n",
      "There are 2 dogs.\n",
      "The dog indexed at 0 is Fido.\n",
      "There are 2 dogs.\n",
      "They are:\n",
      "  Fido\n",
      "  Rex\n"
     ]
    }
   ],
   "source": [
    "class Dog:\n",
    "    count = 0 # this is a class variable\n",
    "    dogs = [] # this is a class variable\n",
    "\n",
    "    def __init__(self, name):\n",
    "        self.name = name #self.name is an instance variable\n",
    "        Dog.count += 1\n",
    "        Dog.dogs.append(name)\n",
    "\n",
    "    def bark(self, n): # this is an instance method\n",
    "        print(\"{} says: {}\".format(self.name, \"woof! \" * n))\n",
    "\n",
    "    @staticmethod\n",
    "    def rollCall(n):\n",
    "        print(\"There are {} dogs.\".format(Dog.count))\n",
    "        if n >= len(Dog.dogs) or n < 0:\n",
    "            print(\"They are:\")\n",
    "            for dog in Dog.dogs:\n",
    "                print(\"  {}\".format(dog))\n",
    "        else:\n",
    "            print(\"The dog indexed at {} is {}.\".format(n, Dog.dogs[n]))\n",
    "\n",
    "\n",
    "fido = Dog(\"Fido\")\n",
    "fido.bark(3)\n",
    "Dog.rollCall(-1)\n",
    "rex = Dog(\"Rex\")\n",
    "Dog.rollCall(0)\n",
    "rex.rollCall(-1)"
   ]
  },
  {
   "cell_type": "markdown",
   "metadata": {},
   "source": [
    "### When to use each method type?\n",
    "It may seem tough and daunting decision choosing between the types of methods in Python, but will get the hang of it with a bit of practice.\n",
    "We generally use the class methods to create factory methods which returns the class object for a different use case. As above, classmethod from_birth_year is used to create a class object from a birth year instead of age.\n",
    "Static methods however are primarily used to create utility function and work on data provided to them in arguments.\n",
    "\n",
    "### Things to remember\n",
    "Instance methods can access the instance through self as well as the class via self.__class__ attribute.\n",
    "Class methods can’t access the instance (self) but they have access to the class itself via cls.\n",
    "Static Methods work like regular functions but belong to the class’s namespace. Static methods don’t have access to cls or self.\n",
    "Even if we write tiny scripts for fun, learning another OOP feature of Python is a great skill to know, and can help to make your code easier to troubleshoot, and easier to reuse in the future."
   ]
  }
 ],
 "metadata": {
  "kernelspec": {
   "display_name": "Python 3",
   "language": "python",
   "name": "python3"
  },
  "language_info": {
   "codemirror_mode": {
    "name": "ipython",
    "version": 3
   },
   "file_extension": ".py",
   "mimetype": "text/x-python",
   "name": "python",
   "nbconvert_exporter": "python",
   "pygments_lexer": "ipython3",
   "version": "3.7.1"
  }
 },
 "nbformat": 4,
 "nbformat_minor": 2
}
