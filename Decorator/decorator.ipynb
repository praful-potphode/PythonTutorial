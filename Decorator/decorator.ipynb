{
 "cells": [
  {
   "cell_type": "markdown",
   "metadata": {},
   "source": [
    "# Decorator"
   ]
  },
  {
   "cell_type": "code",
   "execution_count": 1,
   "metadata": {},
   "outputs": [
    {
     "name": "stdout",
     "output_type": "stream",
     "text": [
      "6\n"
     ]
    }
   ],
   "source": [
    "def mul(a,b):\n",
    "    return a*b\n",
    "print(mul(2,3))"
   ]
  },
  {
   "cell_type": "code",
   "execution_count": 36,
   "metadata": {},
   "outputs": [
    {
     "name": "stdout",
     "output_type": "stream",
     "text": [
      "36\n"
     ]
    }
   ],
   "source": [
    "def decorator(func):\n",
    "    def inner(*args,**kwargs):\n",
    "        res = func(*args,**kwargs)\n",
    "        return res**2\n",
    "    return inner\n",
    "@decorator\n",
    "def mul(a,b):\n",
    "    return a*b\n",
    "print(mul(2,3))"
   ]
  },
  {
   "cell_type": "code",
   "execution_count": 35,
   "metadata": {},
   "outputs": [
    {
     "name": "stdout",
     "output_type": "stream",
     "text": [
      "36\n"
     ]
    }
   ],
   "source": [
    "\n",
    "def decorator(func):\n",
    "    def inner(*args,**kwargs):\n",
    "        res = func(*args,**kwargs)\n",
    "        return res**2\n",
    "    return inner\n",
    "\n",
    "def mul(a,b):\n",
    "    return a*b\n",
    "print(decorator(mul)(2,3))"
   ]
  },
  {
   "cell_type": "code",
   "execution_count": 32,
   "metadata": {},
   "outputs": [
    {
     "name": "stdout",
     "output_type": "stream",
     "text": [
      "36\n"
     ]
    }
   ],
   "source": [
    "def decorator(func,a,b):\n",
    "    res = func(a,b)\n",
    "    return res**2    \n",
    "\n",
    "def mul(a,b):\n",
    "    return a*b\n",
    "print(decorator(mul,2,3))"
   ]
  },
  {
   "cell_type": "code",
   "execution_count": 1,
   "metadata": {},
   "outputs": [
    {
     "name": "stdout",
     "output_type": "stream",
     "text": [
      "64\n"
     ]
    }
   ],
   "source": [
    "def decorator(func):\n",
    "    def inner(*args,**kwargs):\n",
    "        res = func(*args,**kwargs)\n",
    "        return res**3\n",
    "    return inner\n",
    "@decorator\n",
    "def div(a,b):\n",
    "    return a//b\n",
    "print(div(12,3))"
   ]
  },
  {
   "cell_type": "code",
   "execution_count": 5,
   "metadata": {},
   "outputs": [
    {
     "name": "stdout",
     "output_type": "stream",
     "text": [
      "64\n"
     ]
    }
   ],
   "source": [
    "def decorator(func,a,b):\n",
    "    res = func(a,b)\n",
    "    return res**3    \n",
    "\n",
    "def div(a,b):\n",
    "    return a//b\n",
    "print(decorator(div,12,3))"
   ]
  },
  {
   "cell_type": "code",
   "execution_count": 4,
   "metadata": {},
   "outputs": [
    {
     "name": "stdout",
     "output_type": "stream",
     "text": [
      "16\n"
     ]
    }
   ],
   "source": [
    "def decorator(func):\n",
    "    def inner(*args,**kwargs):\n",
    "        res = func(*args,**kwargs)\n",
    "        return res**4\n",
    "    return inner\n",
    "\n",
    "def sub(a,b):\n",
    "    return a-b\n",
    "print(decorator(sub)(5,3))"
   ]
  },
  {
   "cell_type": "code",
   "execution_count": 2,
   "metadata": {},
   "outputs": [
    {
     "name": "stdout",
     "output_type": "stream",
     "text": [
      "16\n"
     ]
    }
   ],
   "source": [
    "def decorator(func):\n",
    "    def inner(*args,**kwargs):\n",
    "        res = func(*args,**kwargs)\n",
    "        return res**4\n",
    "    return inner\n",
    "@decorator\n",
    "def sub(a,b):\n",
    "    return a-b\n",
    "print(sub(5,3))"
   ]
  },
  {
   "cell_type": "code",
   "execution_count": 7,
   "metadata": {},
   "outputs": [
    {
     "name": "stdout",
     "output_type": "stream",
     "text": [
      "32\n"
     ]
    }
   ],
   "source": [
    "def decorator(func):\n",
    "    def inner(*args,**kwargs):\n",
    "        res = func(*args,**kwargs)\n",
    "        return res**5\n",
    "    return inner\n",
    "@decorator\n",
    "def mod(a,b):\n",
    "    return a%b\n",
    "print(mod(8,3))"
   ]
  },
  {
   "cell_type": "code",
   "execution_count": 8,
   "metadata": {},
   "outputs": [
    {
     "name": "stdout",
     "output_type": "stream",
     "text": [
      "32\n"
     ]
    }
   ],
   "source": [
    "def decorator(func):\n",
    "    def inner(*args,**kwargs):\n",
    "        res = func(*args,**kwargs)\n",
    "        return res**5\n",
    "    return inner\n",
    "\n",
    "def mod(a,b):\n",
    "    return a%b\n",
    "print(decorator(mod)(8,3))"
   ]
  },
  {
   "cell_type": "code",
   "execution_count": 10,
   "metadata": {},
   "outputs": [
    {
     "name": "stdout",
     "output_type": "stream",
     "text": [
      "2.5902903939802346\n"
     ]
    }
   ],
   "source": [
    "import math\n",
    "def decorator(func):\n",
    "    def inner(*args,**kwargs):\n",
    "        res = func(*args,**kwargs)\n",
    "        return res**2\n",
    "    return inner\n",
    "@decorator\n",
    "def log(a):\n",
    "    return math.log(a)\n",
    "print(log(5))\n"
   ]
  },
  {
   "cell_type": "code",
   "execution_count": 11,
   "metadata": {},
   "outputs": [
    {
     "name": "stdout",
     "output_type": "stream",
     "text": [
      "2.5902903939802346\n"
     ]
    }
   ],
   "source": [
    "import math\n",
    "def decorator(func):\n",
    "    def inner(*args,**kwargs):\n",
    "        res = func(*args,**kwargs)\n",
    "        return res**2\n",
    "    return inner\n",
    "\n",
    "def log(a):\n",
    "    return math.log(a)\n",
    "print(decorator(log)(5))"
   ]
  },
  {
   "cell_type": "code",
   "execution_count": 12,
   "metadata": {},
   "outputs": [
    {
     "name": "stdout",
     "output_type": "stream",
     "text": [
      "Hello, this is before function execution\n",
      "This is inside the function !!\n",
      "This is after function execution\n"
     ]
    }
   ],
   "source": [
    "# defining a decorator \n",
    "def hello_decorator(func): \n",
    "\n",
    "\t# inner1 is a Wrapper function in \n",
    "\t# which the argument is called \n",
    "\t\n",
    "\t# inner function can access the outer local \n",
    "\t# functions like in this case \"func\" \n",
    "\tdef inner1(): \n",
    "\t\tprint(\"Hello, this is before function execution\") \n",
    "\n",
    "\t\t# calling the actual function now \n",
    "\t\t# inside the wrapper function. \n",
    "\t\tfunc() \n",
    "\n",
    "\t\tprint(\"This is after function execution\") \n",
    "\t\t\n",
    "\treturn inner1 \n",
    "\n",
    "\n",
    "# defining a function, to be called inside wrapper \n",
    "def function_to_be_used(): \n",
    "\tprint(\"This is inside the function !!\") \n",
    "\n",
    "\n",
    "# passing 'function_to_be_used' inside the \n",
    "# decorator to control its behavior \n",
    "function_to_be_used = hello_decorator(function_to_be_used) \n",
    "\n",
    "\n",
    "# calling the function \n",
    "function_to_be_used() \n"
   ]
  },
  {
   "cell_type": "markdown",
   "metadata": {},
   "source": [
    "![title](decorators_steps.png)"
   ]
  },
  {
   "cell_type": "markdown",
   "metadata": {},
   "source": [
    "![title](decorators_step2.png)"
   ]
  },
  {
   "cell_type": "code",
   "execution_count": 14,
   "metadata": {},
   "outputs": [
    {
     "name": "stdout",
     "output_type": "stream",
     "text": [
      "3628800\n",
      "Total time taken in :  factorial 2.0012199878692627\n"
     ]
    }
   ],
   "source": [
    "# importing libraries \n",
    "import time \n",
    "import math \n",
    "\n",
    "# decorator to calculate duration \n",
    "# taken by any function. \n",
    "def calculate_time(func): \n",
    "\t\n",
    "\t# added arguments inside the inner1, \n",
    "\t# if function takes any arguments, \n",
    "\t# can be added like this. \n",
    "\tdef inner1(*args, **kwargs): \n",
    "\n",
    "\t\t# storing time before function execution \n",
    "\t\tbegin = time.time() \n",
    "\t\t\n",
    "\t\tfunc(*args, **kwargs) \n",
    "\n",
    "\t\t# storing time after function execution \n",
    "\t\tend = time.time() \n",
    "\t\tprint(\"Total time taken in : \", func.__name__, end - begin) \n",
    "\n",
    "\treturn inner1 \n",
    "\n",
    "\n",
    "\n",
    "# this can be added to any function present, \n",
    "# in this case to calculate a factorial \n",
    "@calculate_time\n",
    "def factorial(num): \n",
    "\n",
    "\t# sleep 2 seconds because it takes very less time \n",
    "\t# so that you can see the actual difference \n",
    "\ttime.sleep(2) \n",
    "\tprint(math.factorial(num)) \n",
    "\n",
    "# calling the function. \n",
    "factorial(10) \n"
   ]
  },
  {
   "cell_type": "code",
   "execution_count": 15,
   "metadata": {},
   "outputs": [
    {
     "name": "stdout",
     "output_type": "stream",
     "text": [
      "before Execution\n",
      "Inside the function\n",
      "after Execution\n",
      "Sum = 3\n"
     ]
    }
   ],
   "source": [
    "def hello_decorator(func): \n",
    "\tdef inner1(*args, **kwargs): \n",
    "\t\t\n",
    "\t\tprint(\"before Execution\") \n",
    "\t\t\n",
    "\t\t# getting the returned value \n",
    "\t\treturned_value = func(*args, **kwargs) \n",
    "\t\tprint(\"after Execution\") \n",
    "\t\t\n",
    "\t\t# returning the value to the original frame \n",
    "\t\treturn returned_value \n",
    "\t\t\n",
    "\treturn inner1 \n",
    "\n",
    "\n",
    "# adding decorator to the function \n",
    "@hello_decorator\n",
    "def sum_two_numbers(a, b): \n",
    "\tprint(\"Inside the function\") \n",
    "\treturn a + b \n",
    "\n",
    "a, b = 1, 2\n",
    "\n",
    "# getting the value through return of the function \n",
    "print(\"Sum =\", sum_two_numbers(a, b)) \n"
   ]
  },
  {
   "cell_type": "markdown",
   "metadata": {},
   "source": [
    "# Class Questions"
   ]
  },
  {
   "cell_type": "code",
   "execution_count": 15,
   "metadata": {},
   "outputs": [],
   "source": [
    "class abc(object):\n",
    "    count = 1\n",
    "    classvar=[]\n",
    "    def __init__(self):\n",
    "        self.c = []\n",
    "    def prn(self):\n",
    "        print(abc.count)"
   ]
  },
  {
   "cell_type": "code",
   "execution_count": 17,
   "metadata": {},
   "outputs": [
    {
     "name": "stdout",
     "output_type": "stream",
     "text": [
      "1651139760 1651139760\n",
      "103524632 84249656\n"
     ]
    }
   ],
   "source": [
    "a = abc()\n",
    "b = abc()\n",
    "print(id(a.count),id(b.count))\n",
    "print(id(a.c),id(b.c))"
   ]
  },
  {
   "cell_type": "code",
   "execution_count": 19,
   "metadata": {},
   "outputs": [
    {
     "name": "stdout",
     "output_type": "stream",
     "text": [
      "[6, 6] [6, 6]\n",
      "103523192 103523192\n"
     ]
    }
   ],
   "source": [
    "a.classvar.append(6)\n",
    "print(a.classvar,b.classvar)\n",
    "print(id(a.classvar),id(b.classvar))"
   ]
  },
  {
   "cell_type": "code",
   "execution_count": 20,
   "metadata": {},
   "outputs": [
    {
     "data": {
      "text/plain": [
       "(6, 1)"
      ]
     },
     "execution_count": 20,
     "metadata": {},
     "output_type": "execute_result"
    }
   ],
   "source": [
    "a.count = 6\n",
    "a.count,b.count"
   ]
  },
  {
   "cell_type": "code",
   "execution_count": 21,
   "metadata": {},
   "outputs": [],
   "source": [
    "abc.count = 4"
   ]
  },
  {
   "cell_type": "code",
   "execution_count": 23,
   "metadata": {},
   "outputs": [
    {
     "data": {
      "text/plain": [
       "(6, 4)"
      ]
     },
     "execution_count": 23,
     "metadata": {},
     "output_type": "execute_result"
    }
   ],
   "source": [
    "a.count,b.count"
   ]
  },
  {
   "cell_type": "code",
   "execution_count": 24,
   "metadata": {},
   "outputs": [
    {
     "data": {
      "text/plain": [
       "(1651139808, 1651139808)"
      ]
     },
     "execution_count": 24,
     "metadata": {},
     "output_type": "execute_result"
    }
   ],
   "source": [
    "id(abc.count),id(b.count)"
   ]
  },
  {
   "cell_type": "code",
   "execution_count": 26,
   "metadata": {},
   "outputs": [],
   "source": [
    "l = ['satyam','praful']"
   ]
  },
  {
   "cell_type": "code",
   "execution_count": 27,
   "metadata": {},
   "outputs": [
    {
     "data": {
      "text/plain": [
       "['satyam', 'praful']"
      ]
     },
     "execution_count": 27,
     "metadata": {},
     "output_type": "execute_result"
    }
   ],
   "source": [
    "[i for i in l]"
   ]
  },
  {
   "cell_type": "code",
   "execution_count": 29,
   "metadata": {},
   "outputs": [
    {
     "data": {
      "text/plain": [
       "{0: 'satyam', 1: 'praful'}"
      ]
     },
     "execution_count": 29,
     "metadata": {},
     "output_type": "execute_result"
    }
   ],
   "source": [
    "{i:j for i,j in enumerate(l)}"
   ]
  },
  {
   "cell_type": "code",
   "execution_count": 31,
   "metadata": {},
   "outputs": [
    {
     "data": {
      "text/plain": [
       "'praful'"
      ]
     },
     "execution_count": 31,
     "metadata": {},
     "output_type": "execute_result"
    }
   ],
   "source": [
    "{i:j for i,j in enumerate(l)}[10<12]"
   ]
  },
  {
   "cell_type": "code",
   "execution_count": 87,
   "metadata": {},
   "outputs": [
    {
     "data": {
      "text/plain": [
       "<generator object <genexpr> at 0x0662D630>"
      ]
     },
     "execution_count": 87,
     "metadata": {},
     "output_type": "execute_result"
    }
   ],
   "source": [
    "(i for i in l)"
   ]
  },
  {
   "cell_type": "code",
   "execution_count": 37,
   "metadata": {},
   "outputs": [
    {
     "data": {
      "text/plain": [
       "0.6931471805599453"
      ]
     },
     "execution_count": 37,
     "metadata": {},
     "output_type": "execute_result"
    }
   ],
   "source": [
    "import math\n",
    "math.log(2)"
   ]
  },
  {
   "cell_type": "code",
   "execution_count": 94,
   "metadata": {},
   "outputs": [
    {
     "data": {
      "text/plain": [
       "<function __main__.dec.<locals>.inner(*args, **kwargs)>"
      ]
     },
     "execution_count": 94,
     "metadata": {},
     "output_type": "execute_result"
    }
   ],
   "source": [
    "g"
   ]
  },
  {
   "cell_type": "code",
   "execution_count": 95,
   "metadata": {},
   "outputs": [
    {
     "data": {
      "text/plain": [
       "1296"
      ]
     },
     "execution_count": 95,
     "metadata": {},
     "output_type": "execute_result"
    }
   ],
   "source": [
    "g(2,3)"
   ]
  },
  {
   "cell_type": "code",
   "execution_count": 96,
   "metadata": {},
   "outputs": [
    {
     "data": {
      "text/plain": [
       "{1, 2, 3}"
      ]
     },
     "execution_count": 96,
     "metadata": {},
     "output_type": "execute_result"
    }
   ],
   "source": [
    "{1,2,3}"
   ]
  },
  {
   "cell_type": "code",
   "execution_count": 97,
   "metadata": {},
   "outputs": [
    {
     "data": {
      "text/plain": [
       "'satyam'"
      ]
     },
     "execution_count": 97,
     "metadata": {},
     "output_type": "execute_result"
    }
   ],
   "source": [
    "{True:'satyam',False: 'praful'}[26<27]"
   ]
  },
  {
   "cell_type": "code",
   "execution_count": 98,
   "metadata": {},
   "outputs": [
    {
     "data": {
      "text/plain": [
       "'satyam'"
      ]
     },
     "execution_count": 98,
     "metadata": {},
     "output_type": "execute_result"
    }
   ],
   "source": [
    "('praful','satyam')[26<27]"
   ]
  },
  {
   "cell_type": "code",
   "execution_count": 99,
   "metadata": {},
   "outputs": [
    {
     "data": {
      "text/plain": [
       "[True]"
      ]
     },
     "execution_count": 99,
     "metadata": {},
     "output_type": "execute_result"
    }
   ],
   "source": [
    "[26<27]"
   ]
  },
  {
   "cell_type": "code",
   "execution_count": null,
   "metadata": {},
   "outputs": [],
   "source": []
  }
 ],
 "metadata": {
  "kernelspec": {
   "display_name": "Python 3",
   "language": "python",
   "name": "python3"
  },
  "language_info": {
   "codemirror_mode": {
    "name": "ipython",
    "version": 3
   },
   "file_extension": ".py",
   "mimetype": "text/x-python",
   "name": "python",
   "nbconvert_exporter": "python",
   "pygments_lexer": "ipython3",
   "version": "3.7.1"
  }
 },
 "nbformat": 4,
 "nbformat_minor": 2
}
