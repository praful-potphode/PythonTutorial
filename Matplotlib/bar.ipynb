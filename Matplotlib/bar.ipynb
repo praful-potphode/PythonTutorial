{
 "cells": [
  {
   "cell_type": "markdown",
   "metadata": {},
   "source": [
    "\n",
    "# bar(x, height)\n",
    "\n",
    "See `~matplotlib.axes.Axes.bar`.\n"
   ]
  },
  {
   "cell_type": "code",
   "execution_count": 6,
   "metadata": {},
   "outputs": [
    {
     "data": {
      "image/png": "[encoded data removed]",
      "text/plain": [
       "<Figure size 144x144 with 1 Axes>"
      ]
     },
     "metadata": {
      "needs_background": "light"
     },
     "output_type": "display_data"
    }
   ],
   "source": [
    "import matplotlib.pyplot as plt\n",
    "import numpy as np\n",
    "plt.style.use('_mpl-gallery')\n",
    "\n",
    "# make data:\n",
    "x = 0.5 + np.arange(8)\n",
    "y = [4.8, 5.5, 3.5, 4.6, 6.5, 6.6, 2.6, 3.0]\n",
    "\n",
    "# plot\n",
    "fig, ax = plt.subplots()\n",
    "\n",
    "ax.bar(x, y, width=1, edgecolor=\"orange\", linewidth=0.7,color='green')\n",
    "\n",
    "ax.set(xlim=(0, 8), xticks=np.arange(1, 8),\n",
    "       ylim=(0, 8), yticks=np.arange(1, 8))\n",
    "\n",
    "plt.show()"
   ]
  },
  {
   "cell_type": "code",
   "execution_count": 12,
   "metadata": {},
   "outputs": [
    {
     "data": {
      "image/png": "[encoded data removed]",
      "text/plain": [
       "<Figure size 144x144 with 1 Axes>"
      ]
     },
     "metadata": {
      "needs_background": "light"
     },
     "output_type": "display_data"
    }
   ],
   "source": [
    "import matplotlib.pyplot as plt\n",
    "import numpy as np\n",
    "plt.style.use('_mpl-gallery')\n",
    "\n",
    "# make data:\n",
    "dict1={'S1':100,'S2':110,'S3':120,'S4':90}\n",
    "\n",
    "# plot\n",
    "fig = plt.figure()\n",
    "\n",
    "plt.bar(dict1.keys(),dict1.values())\n",
    "\n",
    "\n",
    "\n",
    "plt.show()"
   ]
  },
  {
   "cell_type": "code",
   "execution_count": 26,
   "metadata": {},
   "outputs": [
    {
     "data": {
      "image/png": "[encoded data removed]",
      "text/plain": [
       "<Figure size 144x144 with 1 Axes>"
      ]
     },
     "metadata": {
      "needs_background": "light"
     },
     "output_type": "display_data"
    }
   ],
   "source": [
    "import matplotlib.pyplot as plt\n",
    "import numpy as np\n",
    "plt.style.use('_mpl-gallery')\n",
    "\n",
    "# make data:\n",
    "x = ['1990','1991','1992','1993']\n",
    "y = [80,90,100,110]\n",
    "z=[70,100,110,120]\n",
    "\n",
    "# plot\n",
    "fig, ax = plt.subplots()\n",
    "ax.barh(x, y,label='CY',color='green')\n",
    "\n",
    "plt.legend(loc='lower right')\n",
    "plt.show()"
   ]
  },
  {
   "cell_type": "code",
   "execution_count": 32,
   "metadata": {},
   "outputs": [
    {
     "data": {
      "image/png": "[encoded data removed]",
      "text/plain": [
       "<Figure size 144x144 with 1 Axes>"
      ]
     },
     "metadata": {
      "needs_background": "light"
     },
     "output_type": "display_data"
    }
   ],
   "source": [
    "import matplotlib.pyplot as plt\n",
    "import numpy as np\n",
    "plt.style.use('_mpl-gallery')\n",
    "\n",
    "# make data:\n",
    "x = ['1990','1991','1992','1993']\n",
    "y = [80,90,100,110]\n",
    "z=[70,100,110,120]\n",
    "\n",
    "# plot\n",
    "fig, ax = plt.subplots()\n",
    "ax.bar(x, y,label='CY',color='green')\n",
    "ax.bar(x, z,label='PY',bottom=y,color='blue')\n",
    "plt.legend(loc='best')\n",
    "plt.show()"
   ]
  },
  {
   "cell_type": "code",
   "execution_count": 53,
   "metadata": {},
   "outputs": [
    {
     "data": {
      "image/png": "[encoded data removed]",
      "text/plain": [
       "<Figure size 144x144 with 1 Axes>"
      ]
     },
     "metadata": {
      "needs_background": "light"
     },
     "output_type": "display_data"
    }
   ],
   "source": [
    "import matplotlib.pyplot as plt\n",
    "import numpy as np\n",
    "plt.style.use('_mpl-gallery')\n",
    "\n",
    "# make data:\n",
    "x = np.arange(4)\n",
    "y = [80,90,100,110]\n",
    "z=[70,100,110,120]\n",
    "\n",
    "# plot\n",
    "fig, ax = plt.subplots()\n",
    "ax.bar(x, y,label='CY',color='green',width=0.3)\n",
    "ax.bar(x+0.3, z,label='PY',color='blue',width=0.3)\n",
    "plt.legend(loc='best')\n",
    "plt.show()"
   ]
  },
  {
   "cell_type": "code",
   "execution_count": 41,
   "metadata": {},
   "outputs": [
    {
     "data": {
      "image/png": "[encoded data removed]",
      "text/plain": [
       "<Figure size 144x144 with 1 Axes>"
      ]
     },
     "metadata": {
      "needs_background": "light"
     },
     "output_type": "display_data"
    }
   ],
   "source": [
    "import matplotlib.pyplot as plt\n",
    "import numpy as np\n",
    "plt.style.use('_mpl-gallery')\n",
    "\n",
    "# make data:\n",
    "x = ['1990','1991','1992','1993']\n",
    "y = [80,90,100,110]\n",
    "z=[70,100,110,120]\n",
    "a=[20,30,40,50]\n",
    "# plot\n",
    "fig, ax = plt.subplots()\n",
    "ax.bar(x, y,label='CY',color='green')\n",
    "ax.bar(x, z,label='PY',bottom=y,color='blue')\n",
    "ax.bar(x, a,label='LY',bottom=z,color='orange')\n",
    "plt.legend(loc='best')\n",
    "plt.show()"
   ]
  },
  {
   "cell_type": "code",
   "execution_count": null,
   "metadata": {},
   "outputs": [],
   "source": []
  },
  {
   "cell_type": "code",
   "execution_count": 14,
   "metadata": {},
   "outputs": [
    {
     "data": {
      "image/png": "[encoded data removed]",
      "text/plain": [
       "<Figure size 144x144 with 1 Axes>"
      ]
     },
     "metadata": {
      "needs_background": "light"
     },
     "output_type": "display_data"
    }
   ],
   "source": [
    "import matplotlib.pyplot as plt\n",
    "import numpy as np\n",
    "plt.style.use('_mpl-gallery')\n",
    "\n",
    "# make data:\n",
    "x = [0,1,2,3,4,5,6,7,8]\n",
    "y = [0,1,4,9,16,25,36,49,64]\n",
    "color_bars= ['tab:red', 'tab:blue', 'tab:red', 'tab:orange']\n",
    "\n",
    "# plot\n",
    "fig, ax = plt.subplots()\n",
    "\n",
    "ax.bar(x, y, width=1, edgecolor=\"white\", linewidth=0.7,color=color_bars)\n",
    "\n",
    "ax.set(xlim=(0, 9), xticks=np.arange(1, 8),\n",
    "       ylim=(0, 100), yticks=np.arange(1, 100,10))\n",
    "ax.set_ylabel('Y')\n",
    "ax.set_xlabel('X')\n",
    "ax.set_title('Y vs X')\n",
    "plt.savefig('bardiagram_python.png')\n",
    "plt.show()\n"
   ]
  },
  {
   "cell_type": "code",
   "execution_count": 68,
   "metadata": {},
   "outputs": [
    {
     "data": {
      "image/png": "[encoded data removed]",
      "text/plain": [
       "<Figure size 360x360 with 1 Axes>"
      ]
     },
     "metadata": {
      "needs_background": "light"
     },
     "output_type": "display_data"
    }
   ],
   "source": [
    "import matplotlib.pyplot as plt\n",
    "import numpy as np\n",
    "plt.style.use('_mpl-gallery-nogrid')\n",
    "\n",
    "# make data:\n",
    "x = [0,1,2,3,4,5,6,7,8,1]\n",
    "y = [0,1,4,9,16,25,36,49,64,11]\n",
    "\n",
    "z=[11,13,21,22,23,12,31,32,33,38]\n",
    "# plot\n",
    "fig, ax = plt.subplots(figsize=(5,5))\n",
    "\n",
    "ax.scatter(x, y,marker='^',label='y')\n",
    "ax.scatter(x, z,marker='o',color='red',label='z')\n",
    "ax.set(xlim=(0, 9), xticks=np.arange(1, 8),\n",
    "       ylim=(0, 100), yticks=np.arange(1, 80,10))\n",
    "\n",
    "ax.set_title('Y vs X')\n",
    "plt.legend()\n",
    "plt.savefig('scatter.png')\n",
    "plt.show()\n"
   ]
  },
  {
   "cell_type": "code",
   "execution_count": 61,
   "metadata": {},
   "outputs": [
    {
     "data": {
      "image/png": "[encoded data removed]",
      "text/plain": [
       "<Figure size 144x144 with 1 Axes>"
      ]
     },
     "metadata": {
      "needs_background": "light"
     },
     "output_type": "display_data"
    }
   ],
   "source": [
    "import matplotlib.pyplot as plt\n",
    "import numpy as np\n",
    "plt.style.use('_mpl-gallery')\n",
    "\n",
    "# make data:\n",
    "\n",
    "#y = [0,1,4,9,16,25,36,49,64,0,1,0,1,4,9,16,25,36,49,64,25,36,49,64,36,49,64,0,1,4,9,16,25,36,49,64,0,1,4,9,16,25,36,49,64]\n",
    "rng = np.random.default_rng(19680801)\n",
    "N_points=100000\n",
    "dist1 = rng.standard_normal(N_points)\n",
    "# plot\n",
    "fig, ax = plt.subplots()\n",
    "\n",
    "ax.hist(dist1,bins=20)\n",
    "#ax.hist(y,bins=5)\n",
    "\n",
    "plt.show()\n"
   ]
  },
  {
   "cell_type": "code",
   "execution_count": null,
   "metadata": {},
   "outputs": [],
   "source": []
  }
 ],
 "metadata": {
  "kernelspec": {
   "display_name": "Python 3 (ipykernel)",
   "language": "python",
   "name": "python3"
  },
  "language_info": {
   "codemirror_mode": {
    "name": "ipython",
    "version": 3
   },
   "file_extension": ".py",
   "mimetype": "text/x-python",
   "name": "python",
   "nbconvert_exporter": "python",
   "pygments_lexer": "ipython3",
   "version": "3.7.9"
  }
 },
 "nbformat": 4,
 "nbformat_minor": 1
}
