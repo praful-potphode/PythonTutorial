{
 "cells": [
  {
   "cell_type": "markdown",
   "metadata": {},
   "source": [
    "# Tips & Tricks"
   ]
  },
  {
   "cell_type": "code",
   "execution_count": 3,
   "metadata": {},
   "outputs": [
    {
     "name": "stdout",
     "output_type": "stream",
     "text": [
      "1\n"
     ]
    }
   ],
   "source": [
    "condition=True\n",
    "if condition:\n",
    "    x=1\n",
    "else:\n",
    "    x=0\n",
    "print(x)\n"
   ]
  },
  {
   "cell_type": "code",
   "execution_count": 4,
   "metadata": {},
   "outputs": [
    {
     "name": "stdout",
     "output_type": "stream",
     "text": [
      "0\n"
     ]
    }
   ],
   "source": [
    "condition=False\n",
    "x=1 if condition else 0\n",
    "print(x)"
   ]
  },
  {
   "cell_type": "code",
   "execution_count": 5,
   "metadata": {},
   "outputs": [
    {
     "name": "stdout",
     "output_type": "stream",
     "text": [
      "10100000000\n"
     ]
    }
   ],
   "source": [
    "num1=10000000000\n",
    "num2=100000000\n",
    "print(num1+num2)"
   ]
  },
  {
   "cell_type": "code",
   "execution_count": 8,
   "metadata": {},
   "outputs": [
    {
     "name": "stdout",
     "output_type": "stream",
     "text": [
      "10100000000\n",
      "10,100,000,000\n"
     ]
    }
   ],
   "source": [
    "num1=10_000_000_000\n",
    "num2=100_000_000\n",
    "print(num1+num2)\n",
    "print(f'{num1+num2:,}')"
   ]
  },
  {
   "cell_type": "code",
   "execution_count": 9,
   "metadata": {},
   "outputs": [
    {
     "name": "stdout",
     "output_type": "stream",
     "text": [
      "0 alex\n",
      "1 john\n",
      "2 jane\n",
      "3 richard\n",
      "4 ross\n",
      "5 micahael\n"
     ]
    }
   ],
   "source": [
    "names=['alex','john','jane','richard','ross','micahael']\n",
    "index=0\n",
    "for name in names:\n",
    "    print(index,name)\n",
    "    index+=1"
   ]
  },
  {
   "cell_type": "code",
   "execution_count": 10,
   "metadata": {},
   "outputs": [
    {
     "name": "stdout",
     "output_type": "stream",
     "text": [
      "0 alex\n",
      "1 john\n",
      "2 jane\n",
      "3 richard\n",
      "4 ross\n",
      "5 micahael\n"
     ]
    }
   ],
   "source": [
    "names=['alex','john','jane','richard','ross','micahael']\n",
    "for index,name in enumerate(names):\n",
    "    print(index,name)\n",
    "    "
   ]
  },
  {
   "cell_type": "code",
   "execution_count": 11,
   "metadata": {},
   "outputs": [
    {
     "name": "stdout",
     "output_type": "stream",
     "text": [
      "Stark is Iron-Man\n",
      "Bucky is Winter Soldier\n",
      "Banner is Hulk\n",
      "natasha is Black Widow\n",
      "Peter Parker is Spider Man\n"
     ]
    }
   ],
   "source": [
    "names=['Stark','Bucky','Banner','natasha','Peter Parker']\n",
    "heroes=['Iron-Man','Winter Soldier','Hulk','Black Widow','Spider Man']\n",
    "for name,hero in zip(names,heroes):\n",
    "    print(name,'is',hero)"
   ]
  },
  {
   "cell_type": "code",
   "execution_count": 12,
   "metadata": {},
   "outputs": [
    {
     "name": "stdout",
     "output_type": "stream",
     "text": [
      "1 2\n",
      "1\n"
     ]
    }
   ],
   "source": [
    "a,b=1,2\n",
    "print(a,b)\n",
    "# if varaible b value is not used anywhere we can skip it by replacing b by underscore(_)\n",
    "a,_=1,2\n",
    "print(a)"
   ]
  },
  {
   "cell_type": "code",
   "execution_count": 14,
   "metadata": {},
   "outputs": [
    {
     "ename": "ValueError",
     "evalue": "too many values to unpack (expected 3)",
     "output_type": "error",
     "traceback": [
      "\u001b[1;31m---------------------------------------------------------------------------\u001b[0m",
      "\u001b[1;31mValueError\u001b[0m                                Traceback (most recent call last)",
      "\u001b[1;32m<ipython-input-14-d68b62ee792e>\u001b[0m in \u001b[0;36m<module>\u001b[1;34m\u001b[0m\n\u001b[1;32m----> 1\u001b[1;33m \u001b[0ma\u001b[0m\u001b[1;33m,\u001b[0m\u001b[0mb\u001b[0m\u001b[1;33m,\u001b[0m\u001b[0mc\u001b[0m\u001b[1;33m=\u001b[0m\u001b[1;36m1\u001b[0m\u001b[1;33m,\u001b[0m\u001b[1;36m2\u001b[0m\u001b[1;33m,\u001b[0m\u001b[1;36m3\u001b[0m\u001b[1;33m,\u001b[0m\u001b[1;36m4\u001b[0m\u001b[1;33m,\u001b[0m\u001b[1;36m5\u001b[0m\u001b[1;33m\u001b[0m\u001b[1;33m\u001b[0m\u001b[0m\n\u001b[0m\u001b[0;32m      2\u001b[0m \u001b[0mprint\u001b[0m\u001b[1;33m(\u001b[0m\u001b[0ma\u001b[0m\u001b[1;33m,\u001b[0m\u001b[0mb\u001b[0m\u001b[1;33m,\u001b[0m\u001b[0mc\u001b[0m\u001b[1;33m)\u001b[0m\u001b[1;33m\u001b[0m\u001b[1;33m\u001b[0m\u001b[0m\n",
      "\u001b[1;31mValueError\u001b[0m: too many values to unpack (expected 3)"
     ]
    }
   ],
   "source": [
    "a,b,c=1,2,3,4,5\n",
    "print(a,b,c)"
   ]
  },
  {
   "cell_type": "code",
   "execution_count": 15,
   "metadata": {},
   "outputs": [
    {
     "name": "stdout",
     "output_type": "stream",
     "text": [
      "1 2 [3, 4, 5]\n"
     ]
    }
   ],
   "source": [
    "a,b,*c=1,2,3,4,5\n",
    "print(a,b,c)"
   ]
  },
  {
   "cell_type": "code",
   "execution_count": 16,
   "metadata": {},
   "outputs": [
    {
     "name": "stdout",
     "output_type": "stream",
     "text": [
      "1 2\n"
     ]
    }
   ],
   "source": [
    "a,b,*_=1,2,3,4,5\n",
    "print(a,b)"
   ]
  },
  {
   "cell_type": "code",
   "execution_count": 18,
   "metadata": {},
   "outputs": [
    {
     "name": "stdout",
     "output_type": "stream",
     "text": [
      "1 2 [3, 4, 5, 6, 7, 8, 9] 10\n"
     ]
    }
   ],
   "source": [
    "a,b,*c,d=1,2,3,4,5,6,7,8,9,10\n",
    "print(a,b,c,d)"
   ]
  },
  {
   "cell_type": "code",
   "execution_count": 19,
   "metadata": {},
   "outputs": [
    {
     "name": "stdout",
     "output_type": "stream",
     "text": [
      "1 2 10\n"
     ]
    }
   ],
   "source": [
    "a,b,*_,d=1,2,3,4,5,6,7,8,9,10\n",
    "print(a,b,d)"
   ]
  },
  {
   "cell_type": "code",
   "execution_count": 22,
   "metadata": {},
   "outputs": [
    {
     "name": "stdout",
     "output_type": "stream",
     "text": [
      "Praful 10000 BFSI\n",
      "Praful 10000 BFSI "
     ]
    }
   ],
   "source": [
    "class employee:\n",
    "    pass\n",
    "emp=employee()\n",
    "dict_attr={'name':'Praful','salary':10000,'dept':'BFSI'}\n",
    "for key,value in dict_attr.items():\n",
    "    setattr(employee,key,value)\n",
    "\n",
    "# access by attribute name\n",
    "print(emp.name,emp.salary,emp.dept) \n",
    "\n",
    "for key in dict_attr.keys():\n",
    "    print(getattr(employee,key),end=' ')"
   ]
  },
  {
   "cell_type": "code",
   "execution_count": 23,
   "metadata": {},
   "outputs": [
    {
     "name": "stdout",
     "output_type": "stream",
     "text": [
      "username:user\n",
      "password:password\n",
      "Logging in...\n",
      "Hello  user\n"
     ]
    }
   ],
   "source": [
    "username=input('username:')\n",
    "password=input('password:')\n",
    "print('Logging in...')\n",
    "print('Hello ',username)"
   ]
  },
  {
   "cell_type": "code",
   "execution_count": 27,
   "metadata": {},
   "outputs": [
    {
     "name": "stdout",
     "output_type": "stream",
     "text": [
      "username:user1\n",
      "password:········\n",
      "Logging in...\n",
      "Hello  user1\n"
     ]
    }
   ],
   "source": [
    "from getpass import getpass\n",
    "username=input('username:')\n",
    "password=getpass('password:')\n",
    "print('Logging in...')\n",
    "print('Hello ',username)"
   ]
  }
 ],
 "metadata": {
  "kernelspec": {
   "display_name": "Python 3",
   "language": "python",
   "name": "python3"
  },
  "language_info": {
   "codemirror_mode": {
    "name": "ipython",
    "version": 3
   },
   "file_extension": ".py",
   "mimetype": "text/x-python",
   "name": "python",
   "nbconvert_exporter": "python",
   "pygments_lexer": "ipython3",
   "version": "3.7.1"
  }
 },
 "nbformat": 4,
 "nbformat_minor": 4
}
