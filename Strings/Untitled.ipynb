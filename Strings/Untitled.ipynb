{
 "cells": [
  {
   "cell_type": "code",
   "execution_count": 3,
   "metadata": {},
   "outputs": [
    {
     "name": "stdout",
     "output_type": "stream",
     "text": [
      "Enter any string-testing\n",
      "tes$ing\n"
     ]
    }
   ],
   "source": [
    "# Sample String : 'restart'\n",
    "# Expected Result : 'resta$t'\n",
    "input_string=input('Enter any string-')\n",
    "print(input_string[0]+input_string[1:].replace(input_string[0],'$'))\n"
   ]
  },
  {
   "cell_type": "code",
   "execution_count": 5,
   "metadata": {},
   "outputs": [
    {
     "name": "stdout",
     "output_type": "stream",
     "text": [
      "Enter any string-google.com\n",
      "g 2   o 3   o 3   g 2   l 1   e 1   . 1   c 1   o 3   m 1   "
     ]
    }
   ],
   "source": [
    "\n",
    "input_string=input('Enter any string-')\n",
    "for char in input_string:\n",
    "    print(char,input_string.count(char),end='   ')"
   ]
  },
  {
   "cell_type": "code",
   "execution_count": 1,
   "metadata": {},
   "outputs": [
    {
     "name": "stdout",
     "output_type": "stream",
     "text": [
      "Enter any string-s\n",
      "\n"
     ]
    }
   ],
   "source": [
    "# Sample String : 'w3resource'\n",
    "# Expected Result : 'w3ce'\n",
    "# Sample String : 'w3'\n",
    "# Expected Result : 'w3w3'\n",
    "# Sample String : ' w'\n",
    "# Expected Result : Empty String \n",
    "input_string=input('Enter any string-')\n",
    "len_string=len(input_string)\n",
    "if len_string==2:\n",
    "    print(input_string*len_string)\n",
    "elif len_string<2:\n",
    "    print()\n",
    "else:\n",
    "    print(input_string[0:2]+input_string[len_string-2:])"
   ]
  },
  {
   "cell_type": "code",
   "execution_count": 3,
   "metadata": {},
   "outputs": [
    {
     "data": {
      "text/plain": [
       "'u'"
      ]
     },
     "execution_count": 3,
     "metadata": {},
     "output_type": "execute_result"
    }
   ],
   "source": [
    "string0='Taj Mahal is beautiful'\n",
    "string0[-2]"
   ]
  },
  {
   "cell_type": "code",
   "execution_count": null,
   "metadata": {},
   "outputs": [],
   "source": []
  }
 ],
 "metadata": {
  "kernelspec": {
   "display_name": "Python 3",
   "language": "python",
   "name": "python3"
  },
  "language_info": {
   "codemirror_mode": {
    "name": "ipython",
    "version": 3
   },
   "file_extension": ".py",
   "mimetype": "text/x-python",
   "name": "python",
   "nbconvert_exporter": "python",
   "pygments_lexer": "ipython3",
   "version": "3.7.1"
  }
 },
 "nbformat": 4,
 "nbformat_minor": 2
}
